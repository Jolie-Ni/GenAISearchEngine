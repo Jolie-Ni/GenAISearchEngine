{
  "cells": [
    {
      "cell_type": "markdown",
      "metadata": {
        "id": "view-in-github",
        "colab_type": "text"
      },
      "source": [
        "<a href=\"https://colab.research.google.com/github/Jolie-Ni/GenAISearchEngine/blob/main/ai-performance-eval-agents.ipynb\" target=\"_parent\"><img src=\"https://colab.research.google.com/assets/colab-badge.svg\" alt=\"Open In Colab\"/></a>"
      ]
    },
    {
      "cell_type": "markdown",
      "id": "7a5c2153",
      "metadata": {
        "id": "7a5c2153"
      },
      "source": [
        "[![Open in Colab](https://colab.research.google.com/assets/colab-badge.svg)](https://colab.research.google.com/github/langchain-ai/langchain-academy/blob/main/module-4/research-assistant.ipynb) [![Open in LangChain Academy](https://cdn.prod.website-files.com/65b8cd72835ceeacd4449a53/66e9eba12c7b7688aa3dbb5e_LCA-badge-green.svg)](https://academy.langchain.com/courses/take/intro-to-langgraph/lessons/58239974-lesson-4-research-assistant)"
      ]
    },
    {
      "cell_type": "markdown",
      "id": "e0a5763f-5f45-4b8f-b3e2-480f46c5721b",
      "metadata": {
        "id": "e0a5763f-5f45-4b8f-b3e2-480f46c5721b"
      },
      "source": [
        "# Performance Eval Assistant\n",
        "\n",
        "## Goal\n",
        "\n",
        "Our goal is to build a lightweight, multi-agent system around chat models that customizes the performance eval report process.\n",
        "  \n",
        "`Planning`\n",
        "* Users provide a person of interest and a performance eval guideline to generate performance review on, and the system generates a team of AI analysts, each focusing on one aspect of the performance eval.\n",
        "* `Human-in-the-loop` will be used to refine these aspects before analysis begins.\n",
        "  \n",
        "`LLM Utilization`\n",
        "* Each analyst will conduct in-depth conversation with our enterprise knowledge base.\n",
        "* The interview will be a multi-turn conversation to extract detailed insights.\n",
        "* These conversation will be captured in a using `sub-graphs` with their internal state.\n",
        "   \n",
        "`Research Process`\n",
        "* knowledge base will gather information to answer analyst questions in `parallel`.\n",
        "* And all conversation will be conducted simultaneously through `map-reduce`.\n",
        "\n",
        "`Output Format`\n",
        "* The gathered insights from each conversation will be synthesized into a final report.\n",
        "* We'll use customizable prompts for the report, allowing for a flexible output format.\n"
      ]
    },
    {
      "cell_type": "code",
      "execution_count": 3,
      "id": "f23991e9-51b3-4e9f-86a0-dec16aa7d1e6",
      "metadata": {
        "scrolled": true,
        "id": "f23991e9-51b3-4e9f-86a0-dec16aa7d1e6"
      },
      "outputs": [],
      "source": [
        "%%capture --no-stderr\n",
        "%pip install --quiet -U langgraph langchain_openai langchain_community langchain_core tavily-python wikipedia"
      ]
    },
    {
      "cell_type": "markdown",
      "id": "99a1c01d-87e1-4723-b83e-ebcf937fe914",
      "metadata": {
        "id": "99a1c01d-87e1-4723-b83e-ebcf937fe914"
      },
      "source": [
        "## Setup"
      ]
    },
    {
      "cell_type": "code",
      "execution_count": 1,
      "id": "ba917800-10e4-4e2a-8e9e-30893b731e97",
      "metadata": {
        "id": "ba917800-10e4-4e2a-8e9e-30893b731e97",
        "colab": {
          "base_uri": "https://localhost:8080/"
        },
        "outputId": "b04c785a-f331-48dd-e066-0ee6745870f3"
      },
      "outputs": [
        {
          "name": "stdout",
          "output_type": "stream",
          "text": [
            "OPENAI_API_KEY: ··········\n"
          ]
        }
      ],
      "source": [
        "import os, getpass\n",
        "\n",
        "def _set_env(var: str):\n",
        "    if not os.environ.get(var):\n",
        "        os.environ[var] = getpass.getpass(f\"{var}: \")\n",
        "\n",
        "_set_env(\"OPENAI_API_KEY\")"
      ]
    },
    {
      "cell_type": "code",
      "execution_count": 4,
      "id": "afe9ff57-0826-4669-b88b-4d0501a509f5",
      "metadata": {
        "id": "afe9ff57-0826-4669-b88b-4d0501a509f5"
      },
      "outputs": [],
      "source": [
        "from langchain_openai import ChatOpenAI\n",
        "llm = ChatOpenAI(model=\"gpt-4o\", temperature=0)"
      ]
    },
    {
      "cell_type": "markdown",
      "id": "3419257b-2c6b-4d68-ae38-4a266cc02982",
      "metadata": {
        "id": "3419257b-2c6b-4d68-ae38-4a266cc02982"
      },
      "source": [
        "We'll use [LangSmith](https://docs.smith.langchain.com/) for [tracing](https://docs.smith.langchain.com/concepts/tracing)."
      ]
    },
    {
      "cell_type": "code",
      "execution_count": 5,
      "id": "5102cf2e-0ca9-465b-9499-67abb8132e5d",
      "metadata": {
        "id": "5102cf2e-0ca9-465b-9499-67abb8132e5d",
        "colab": {
          "base_uri": "https://localhost:8080/"
        },
        "outputId": "124c302a-c26d-453d-c1dc-f8e1c5ee2387"
      },
      "outputs": [
        {
          "name": "stdout",
          "output_type": "stream",
          "text": [
            "LANGCHAIN_API_KEY: ··········\n"
          ]
        }
      ],
      "source": [
        "_set_env(\"LANGCHAIN_API_KEY\")\n",
        "os.environ[\"LANGCHAIN_TRACING_V2\"] = \"true\"\n",
        "os.environ[\"LANGCHAIN_PROJECT\"] = \"langchain-academy\""
      ]
    },
    {
      "cell_type": "markdown",
      "id": "f8fe5d93-e353-44bb-be3e-434654bcb7ea",
      "metadata": {
        "id": "f8fe5d93-e353-44bb-be3e-434654bcb7ea"
      },
      "source": [
        "## Generate Analysts: Human-In-The-Loop\n",
        "\n",
        "Create analysts and review them using human-in-the-loop."
      ]
    },
    {
      "cell_type": "code",
      "execution_count": 72,
      "id": "1eee8e60-e548-49b1-88ec-a4f3aef2174e",
      "metadata": {
        "id": "1eee8e60-e548-49b1-88ec-a4f3aef2174e"
      },
      "outputs": [],
      "source": [
        "from typing import List\n",
        "from typing_extensions import TypedDict\n",
        "from pydantic import BaseModel, Field\n",
        "\n",
        "class Analyst(BaseModel):\n",
        "    name: str = Field(\n",
        "        description=\"Name of the analyst.\"\n",
        "    )\n",
        "    description: str = Field(\n",
        "        description=\"Description of the analyst focus, concerns, and motives.\",\n",
        "    )\n",
        "    @property\n",
        "    def persona(self) -> str:\n",
        "        return f\"Name: {self.name}\\nDescription: {self.description}\\n\"\n",
        "\n",
        "class Perspectives(BaseModel):\n",
        "    analysts: List[Analyst] = Field(\n",
        "        description=\"Comprehensive list of analysts with their names and descriptions.\",\n",
        "    )\n",
        "\n",
        "class GenerateAnalystsState(TypedDict):\n",
        "    topic: str # person of interest\n",
        "    guideline: str # performance review guideline\n",
        "    max_analysts: int # Number of analysts\n",
        "    human_analyst_feedback: str # Human feedback\n",
        "    analysts: List[Analyst] # Analyst asking questions"
      ]
    },
    {
      "cell_type": "code",
      "execution_count": 73,
      "id": "fd088ff5-4c75-412c-85f0-04afd0900bfc",
      "metadata": {
        "id": "fd088ff5-4c75-412c-85f0-04afd0900bfc",
        "outputId": "0e6f7713-2166-4f22-b500-a00a4e313773",
        "colab": {
          "base_uri": "https://localhost:8080/",
          "height": 392
        }
      },
      "outputs": [
        {
          "output_type": "display_data",
          "data": {
            "image/png": "[encoded data removed]",
            "text/plain": [
              "<IPython.core.display.Image object>"
            ]
          },
          "metadata": {}
        }
      ],
      "source": [
        "from IPython.display import Image, display\n",
        "from langgraph.graph import START, END, StateGraph\n",
        "from langgraph.checkpoint.memory import MemorySaver\n",
        "from langchain_core.messages import AIMessage, HumanMessage, SystemMessage\n",
        "\n",
        "analyst_instructions=\"\"\"You are tasked with creating a set of AI analyst personas that research about an employee's performance given performance review guideline. Follow these instructions carefully:\n",
        "\n",
        "1. You are given a performance review guideline that contains expections of software engineers in different levels\n",
        "{guideline}\n",
        "\n",
        "2. Examine any editorial feedback that has been optionally provided to guide creation of the analysts:\n",
        "\n",
        "{human_analyst_feedback}\n",
        "\n",
        "3. The guideline contains several aspects that evaluates an employee's performance, carefully read through each aspect's description\n",
        "\n",
        "4. Assign one analyst to each aspect.\"\"\"\n",
        "\n",
        "def create_analysts(state: GenerateAnalystsState):\n",
        "\n",
        "    \"\"\" Create analysts \"\"\"\n",
        "    topic=state[\"topic\"]\n",
        "    guideline=state['guideline']\n",
        "    max_analysts=state['max_analysts']\n",
        "    human_analyst_feedback=state.get('human_analyst_feedback', '')\n",
        "\n",
        "    # Enforce structured output\n",
        "    structured_llm = llm.with_structured_output(Perspectives)\n",
        "\n",
        "    # System message\n",
        "    system_message = analyst_instructions.format(guideline=guideline,\n",
        "                                                            human_analyst_feedback=human_analyst_feedback,\n",
        "                                                            max_analysts=max_analysts)\n",
        "\n",
        "    # Generate question\n",
        "    analysts = structured_llm.invoke([SystemMessage(content=system_message)]+[HumanMessage(content=\"Generate the set of analysts.\")])\n",
        "\n",
        "    # Write the list of analysis to state\n",
        "    return {\"analysts\": analysts.analysts}\n",
        "\n",
        "def human_feedback(state: GenerateAnalystsState):\n",
        "    \"\"\" No-op node that should be interrupted on \"\"\"\n",
        "    pass\n",
        "\n",
        "def should_continue(state: GenerateAnalystsState):\n",
        "    \"\"\" Return the next node to execute \"\"\"\n",
        "\n",
        "    # Check if human feedback\n",
        "    human_analyst_feedback=state.get('human_analyst_feedback', None)\n",
        "    if human_analyst_feedback:\n",
        "        return \"create_analysts\"\n",
        "\n",
        "    # Otherwise end\n",
        "    return END\n",
        "\n",
        "# Add nodes and edges\n",
        "builder = StateGraph(GenerateAnalystsState)\n",
        "builder.add_node(\"create_analysts\", create_analysts)\n",
        "builder.add_node(\"human_feedback\", human_feedback)\n",
        "builder.add_edge(START, \"create_analysts\")\n",
        "builder.add_edge(\"create_analysts\", \"human_feedback\")\n",
        "builder.add_conditional_edges(\"human_feedback\", should_continue, [\"create_analysts\", END])\n",
        "\n",
        "# Compile\n",
        "memory = MemorySaver()\n",
        "graph = builder.compile(interrupt_before=['human_feedback'], checkpointer=memory)\n",
        "\n",
        "# View\n",
        "display(Image(graph.get_graph(xray=1).draw_mermaid_png()))"
      ]
    },
    {
      "cell_type": "code",
      "execution_count": 74,
      "id": "6c22cb05-c436-4358-8f7a-72d722f9b5cc",
      "metadata": {
        "id": "6c22cb05-c436-4358-8f7a-72d722f9b5cc",
        "outputId": "753ae3ab-5485-4bc2-c3df-cf4420911740",
        "colab": {
          "base_uri": "https://localhost:8080/"
        }
      },
      "outputs": [
        {
          "output_type": "stream",
          "name": "stdout",
          "text": [
            "Name: Scope and Impact Analyst\n",
            "Description: Focuses on evaluating the scope and impact of the software engineer's work. Concerned with the level of independence and leadership demonstrated in developing features and projects. Motivated by understanding how the engineer's contributions align with their expected level.\n",
            "--------------------------------------------------\n",
            "Name: Technical Contributions Analyst\n",
            "Description: Specializes in assessing the quality and clarity of the code implemented by the software engineer. Concerned with the engineer's ability to independently or collaboratively produce tested and maintainable code. Motivated by ensuring technical excellence and adherence to best practices.\n",
            "--------------------------------------------------\n",
            "Name: Expertise Analyst\n",
            "Description: Concentrates on evaluating the engineer's proficiency and expertise in technical areas. Concerned with the depth of knowledge and ability to provide insights and guidance within the team. Motivated by recognizing and fostering technical growth and mastery.\n",
            "--------------------------------------------------\n",
            "Name: Design & Architecture Analyst\n",
            "Description: Focuses on the engineer's involvement and leadership in design and architecture. Concerned with the ability to contribute to and lead design discussions, provide feedback, and resolve design challenges. Motivated by promoting robust and innovative engineering solutions.\n",
            "--------------------------------------------------\n",
            "Name: Ownership Analyst\n",
            "Description: Specializes in assessing the engineer's sense of ownership and responsibility over their projects. Concerned with the ability to manage the entire lifecycle of a project, including planning, risk management, and maintenance. Motivated by ensuring accountability and the long-term success of projects.\n",
            "--------------------------------------------------\n"
          ]
        }
      ],
      "source": [
        "# Input\n",
        "max_analysts = 3\n",
        "topic=\"Amy\"\n",
        "guideline = \"\"\"\n",
        "Scope and Impact:\n",
        "L3: Develops features with supervision and support.\n",
        "L4: Designs, develops, ships, and maintains features with support.\n",
        "L5: Designs, develops, ships, and maintains medium-sized features independently.\n",
        "L6: Leads medium-to-large features and multi-person efforts, usually crossing engineering team boundaries.\n",
        "Technical Contributions:\n",
        "L3: With supervision, implements code that is clear, concise, and tested.\n",
        "L4: With support, implements code that is clear, concise, and tested.\n",
        "L5: Independently implements code that is clear, concise, and tested.\n",
        "L6: Makes high-quality, impactful technical contributions. Analyzes and resolves technical obstacles for the team.\n",
        "Expertise:\n",
        "L3: Is learning one or more technical areas.\n",
        "L4: Is proficient in one or more technical areas.\n",
        "L5: Is highly proficient in one or more technical areas.\n",
        "L6: Is an expert in one or more technical areas. An excellent source of insights and wisdom within the team.\n",
        "Design & Architecture:\n",
        "L3: With supervision, participates in engineering design for features and bug fixes.\n",
        "L4: With support, contributes to engineering design for features and bug fixes. Provides meaningful feedback on other engineers’ code.\n",
        "L5: Creates or co-creates engineering designs. Provides meaningful feedback on other engineers’ designs and code.\n",
        "L6: Leads engineering designs, soliciting feedback and building consensus. Provides meaningful feedback and guides other engineers to resolve open questions in designs and code.\n",
        "Ownership:\n",
        "L3: Responsible for development and testing of their code.\n",
        "L4: Responsible for development, testing, rollout, and maintenance of their code. Improves the health and quality of the code.\n",
        "L5: Responsible for the successful delivery of projects, including planning, risk management, design, development, testing, rollout, and maintenance. Ensures long-term health and quality of the team’s codebase and systems.\n",
        "L6: Responsible for the successful delivery of projects, including coordination, planning, risk management, design, development, testing, rollout, and maintenance.\n",
        "\"\"\"\n",
        "thread = {\"configurable\": {\"thread_id\": \"1\"}}\n",
        "\n",
        "# Run the graph until the first interruption\n",
        "for event in graph.stream({\"topic\":topic, \"guideline\":guideline, \"max_analysts\":max_analysts,}, thread, stream_mode=\"values\"):\n",
        "    # Review\n",
        "    analysts = event.get('analysts', '')\n",
        "    if analysts:\n",
        "        for analyst in analysts:\n",
        "            print(f\"Name: {analyst.name}\")\n",
        "            print(f\"Description: {analyst.description}\")\n",
        "            print(\"-\" * 50)"
      ]
    },
    {
      "cell_type": "code",
      "source": [
        "# If we are satisfied, then we simply supply no feedback\n",
        "further_feedack = None\n",
        "graph.update_state(thread, {\"human_analyst_feedback\":\n",
        "                            further_feedack}, as_node=\"human_feedback\")"
      ],
      "metadata": {
        "colab": {
          "base_uri": "https://localhost:8080/"
        },
        "id": "BH38Yaalxq1P",
        "outputId": "fb7830ce-85e2-41d4-e3c8-44809ba6702e"
      },
      "id": "BH38Yaalxq1P",
      "execution_count": 75,
      "outputs": [
        {
          "output_type": "execute_result",
          "data": {
            "text/plain": [
              "{'configurable': {'thread_id': '1',\n",
              "  'checkpoint_ns': '',\n",
              "  'checkpoint_id': '1efa9484-3e6d-6876-8002-6b22531d488c'}}"
            ]
          },
          "metadata": {},
          "execution_count": 75
        }
      ]
    },
    {
      "cell_type": "code",
      "execution_count": 76,
      "id": "b8816eb9-9906-441b-b552-be71107db14f",
      "metadata": {
        "id": "b8816eb9-9906-441b-b552-be71107db14f",
        "outputId": "9f811cef-61ac-4854-a2b5-9755f05a92a7",
        "colab": {
          "base_uri": "https://localhost:8080/"
        }
      },
      "outputs": [
        {
          "output_type": "stream",
          "name": "stdout",
          "text": [
            "Name: Scope and Impact Analyst\n",
            "Description: Focuses on evaluating the scope and impact of the software engineer's work. Concerned with the level of independence and leadership demonstrated in developing features and projects. Motivated by understanding how the engineer's contributions align with their expected level.\n",
            "--------------------------------------------------\n",
            "Name: Technical Contributions Analyst\n",
            "Description: Specializes in assessing the quality and clarity of the code implemented by the software engineer. Concerned with the engineer's ability to independently or collaboratively produce tested and maintainable code. Motivated by ensuring technical excellence and adherence to best practices.\n",
            "--------------------------------------------------\n",
            "Name: Expertise Analyst\n",
            "Description: Concentrates on evaluating the engineer's proficiency and expertise in technical areas. Concerned with the depth of knowledge and ability to provide insights and guidance within the team. Motivated by recognizing and fostering technical growth and mastery.\n",
            "--------------------------------------------------\n",
            "Name: Design & Architecture Analyst\n",
            "Description: Focuses on the engineer's involvement and leadership in design and architecture. Concerned with the ability to contribute to and lead design discussions, provide feedback, and resolve design challenges. Motivated by promoting robust and innovative engineering solutions.\n",
            "--------------------------------------------------\n",
            "Name: Ownership Analyst\n",
            "Description: Specializes in assessing the engineer's sense of ownership and responsibility over their projects. Concerned with the ability to manage the entire lifecycle of a project, including planning, risk management, and maintenance. Motivated by ensuring accountability and the long-term success of projects.\n",
            "--------------------------------------------------\n"
          ]
        }
      ],
      "source": [
        "# Continue the graph execution\n",
        "for event in graph.stream(None, thread, stream_mode=\"values\"):\n",
        "    # Review\n",
        "    analysts = event.get('analysts', '')\n",
        "    if analysts:\n",
        "        for analyst in analysts:\n",
        "            print(f\"Name: {analyst.name}\")\n",
        "            print(f\"Description: {analyst.description}\")\n",
        "            print(\"-\" * 50)"
      ]
    },
    {
      "cell_type": "code",
      "execution_count": 79,
      "id": "ab034e65-aeee-4723-8d6d-74541b548425",
      "metadata": {
        "id": "ab034e65-aeee-4723-8d6d-74541b548425"
      },
      "outputs": [],
      "source": [
        "# Continue the graph execution to end\n",
        "for event in graph.stream(None, thread, stream_mode=\"updates\"):\n",
        "    print(\"--Node--\")\n",
        "    node_name = next(iter(event.keys()))\n",
        "    print(node_name)"
      ]
    },
    {
      "cell_type": "code",
      "execution_count": 80,
      "id": "2f204e8a-285c-4e46-8223-a695caec7764",
      "metadata": {
        "id": "2f204e8a-285c-4e46-8223-a695caec7764"
      },
      "outputs": [],
      "source": [
        "final_state = graph.get_state(thread)\n",
        "analysts = final_state.values.get('analysts')"
      ]
    },
    {
      "cell_type": "code",
      "execution_count": 81,
      "id": "59704086-cb3b-42e9-8395-37be6f0d44e9",
      "metadata": {
        "id": "59704086-cb3b-42e9-8395-37be6f0d44e9",
        "outputId": "b3b56d1a-e374-49fa-b1a4-b5323c3deae8",
        "colab": {
          "base_uri": "https://localhost:8080/"
        }
      },
      "outputs": [
        {
          "output_type": "execute_result",
          "data": {
            "text/plain": [
              "()"
            ]
          },
          "metadata": {},
          "execution_count": 81
        }
      ],
      "source": [
        "final_state.next"
      ]
    },
    {
      "cell_type": "code",
      "execution_count": 82,
      "id": "95717ba3-aa00-48d6-bbb7-5fe4db5919bf",
      "metadata": {
        "id": "95717ba3-aa00-48d6-bbb7-5fe4db5919bf",
        "outputId": "4df41979-7ebb-4d4d-9a8e-96e5aa18ddad",
        "colab": {
          "base_uri": "https://localhost:8080/"
        }
      },
      "outputs": [
        {
          "output_type": "stream",
          "name": "stdout",
          "text": [
            "Name: Scope and Impact Analyst\n",
            "Description: Focuses on evaluating the scope and impact of the software engineer's work. Concerned with the level of independence and leadership demonstrated in developing features and projects. Motivated by understanding how the engineer's contributions align with their expected level.\n",
            "--------------------------------------------------\n",
            "Name: Technical Contributions Analyst\n",
            "Description: Specializes in assessing the quality and clarity of the code implemented by the software engineer. Concerned with the engineer's ability to independently or collaboratively produce tested and maintainable code. Motivated by ensuring technical excellence and adherence to best practices.\n",
            "--------------------------------------------------\n",
            "Name: Expertise Analyst\n",
            "Description: Concentrates on evaluating the engineer's proficiency and expertise in technical areas. Concerned with the depth of knowledge and ability to provide insights and guidance within the team. Motivated by recognizing and fostering technical growth and mastery.\n",
            "--------------------------------------------------\n",
            "Name: Design & Architecture Analyst\n",
            "Description: Focuses on the engineer's involvement and leadership in design and architecture. Concerned with the ability to contribute to and lead design discussions, provide feedback, and resolve design challenges. Motivated by promoting robust and innovative engineering solutions.\n",
            "--------------------------------------------------\n",
            "Name: Ownership Analyst\n",
            "Description: Specializes in assessing the engineer's sense of ownership and responsibility over their projects. Concerned with the ability to manage the entire lifecycle of a project, including planning, risk management, and maintenance. Motivated by ensuring accountability and the long-term success of projects.\n",
            "--------------------------------------------------\n"
          ]
        }
      ],
      "source": [
        "for analyst in analysts:\n",
        "    print(f\"Name: {analyst.name}\")\n",
        "    print(f\"Description: {analyst.description}\")\n",
        "    print(\"-\" * 50)"
      ]
    },
    {
      "cell_type": "markdown",
      "id": "7d2498e4-20ae-4503-9dd0-a4165132b7a7",
      "metadata": {
        "id": "7d2498e4-20ae-4503-9dd0-a4165132b7a7"
      },
      "source": [
        "## Conduct Interview\n",
        "\n",
        "### Generate Question\n",
        "\n",
        "The analyst will ask questions to discover more about this person's performance."
      ]
    },
    {
      "cell_type": "code",
      "execution_count": 83,
      "id": "e5d5f559-f42e-442b-87cd-dbf0a91abf9c",
      "metadata": {
        "id": "e5d5f559-f42e-442b-87cd-dbf0a91abf9c"
      },
      "outputs": [],
      "source": [
        "import operator\n",
        "from typing import  Annotated\n",
        "from langgraph.graph import MessagesState\n",
        "\n",
        "class InterviewState(MessagesState):\n",
        "    max_num_turns: int # Number turns of conversation\n",
        "    context: Annotated[list, operator.add] # Source docs\n",
        "    analyst: Analyst # Analyst asking questions\n",
        "    interview: str # Interview transcript\n",
        "    sections: list # Final key we duplicate in outer state for Send() API\n",
        "\n",
        "class SearchQuery(BaseModel):\n",
        "    search_query: str = Field(None, description=\"Search query for retrieval.\")"
      ]
    },
    {
      "cell_type": "code",
      "execution_count": 16,
      "id": "1c2e71eb-07ad-4bea-aabc-dbaf551408c0",
      "metadata": {
        "id": "1c2e71eb-07ad-4bea-aabc-dbaf551408c0"
      },
      "outputs": [],
      "source": [
        "question_instructions = \"\"\"You are an analyst tasked with asking a knowledge base question to discover more about an employee's performance.\n",
        "\n",
        "Your goal is boil down to specific strengths and weaknesses of this employee related to the aspect of performance guideline you are researching.\n",
        "\n",
        "1. Strengths: What are something this person is doing particularlly good at that receives a lot of compliments?\n",
        "\n",
        "2. Weaknesses: What are things this person get a lot of constructive feedback on consistently?\n",
        "\n",
        "Here is your aspect of focus and set of goals: {goals}\n",
        "\n",
        "Begin by understanding what does a good software enginner look like in this aspect?\n",
        "\n",
        "Continue to ask questions to drill down and refine your understanding of this person's performance.\n",
        "\n",
        "When you are satisfied with your understanding, complete the interview with: \"I am done!\"\n",
        "\n",
        "Remember to stay in character throughout your response, reflecting the persona and goals provided to you.\"\"\"\n",
        "\n",
        "def generate_question(state: InterviewState):\n",
        "    \"\"\" Node to generate a question \"\"\"\n",
        "\n",
        "    # Get state\n",
        "    analyst = state[\"analyst\"]\n",
        "    messages = state[\"messages\"]\n",
        "\n",
        "    # Generate question\n",
        "    system_message = question_instructions.format(goals=analyst.persona)\n",
        "    question = llm.invoke([SystemMessage(content=system_message)]+messages)\n",
        "\n",
        "    # Write messages to state\n",
        "    return {\"messages\": [question]}"
      ]
    },
    {
      "cell_type": "markdown",
      "id": "be2ff33a-6232-4a79-8a82-882a645394f5",
      "metadata": {
        "id": "be2ff33a-6232-4a79-8a82-882a645394f5"
      },
      "source": [
        "### Generate Answer: Parallelization\n",
        "\n",
        "The expert will gather information from multiple sources in parallel to answer questions.\n",
        "\n",
        "For example, we can use:\n",
        "\n",
        "* Specific web sites e.g., via [`WebBaseLoader`](https://python.langchain.com/v0.2/docs/integrations/document_loaders/web_base/)\n",
        "* Indexed documents e.g., via [RAG](https://python.langchain.com/v0.2/docs/tutorials/rag/)\n",
        "* Web search\n",
        "* Wikipedia search\n",
        "\n",
        "You can try different web search tools, like [Tavily](https://tavily.com/)."
      ]
    },
    {
      "cell_type": "code",
      "source": [
        "!pip install -qU langchain-openai\n",
        "!pip install langchain_chroma\n",
        "!pip install playwright"
      ],
      "metadata": {
        "colab": {
          "base_uri": "https://localhost:8080/"
        },
        "id": "Cd6e_Irv3Zwq",
        "outputId": "ec4f4cd8-cb3d-4f99-b0c1-578e3aa12599"
      },
      "id": "Cd6e_Irv3Zwq",
      "execution_count": 17,
      "outputs": [
        {
          "output_type": "stream",
          "name": "stdout",
          "text": [
            "Collecting langchain_chroma\n",
            "  Downloading langchain_chroma-0.1.4-py3-none-any.whl.metadata (1.6 kB)\n",
            "Collecting chromadb!=0.5.4,!=0.5.5,<0.6.0,>=0.4.0 (from langchain_chroma)\n",
            "  Downloading chromadb-0.5.20-py3-none-any.whl.metadata (6.8 kB)\n",
            "Collecting fastapi<1,>=0.95.2 (from langchain_chroma)\n",
            "  Downloading fastapi-0.115.5-py3-none-any.whl.metadata (27 kB)\n",
            "Requirement already satisfied: langchain-core<0.4,>=0.1.40 in /usr/local/lib/python3.10/dist-packages (from langchain_chroma) (0.3.20)\n",
            "Requirement already satisfied: numpy<2,>=1 in /usr/local/lib/python3.10/dist-packages (from langchain_chroma) (1.26.4)\n",
            "Collecting build>=1.0.3 (from chromadb!=0.5.4,!=0.5.5,<0.6.0,>=0.4.0->langchain_chroma)\n",
            "  Downloading build-1.2.2.post1-py3-none-any.whl.metadata (6.5 kB)\n",
            "Requirement already satisfied: pydantic>=1.9 in /usr/local/lib/python3.10/dist-packages (from chromadb!=0.5.4,!=0.5.5,<0.6.0,>=0.4.0->langchain_chroma) (2.9.2)\n",
            "Collecting chroma-hnswlib==0.7.6 (from chromadb!=0.5.4,!=0.5.5,<0.6.0,>=0.4.0->langchain_chroma)\n",
            "  Downloading chroma_hnswlib-0.7.6-cp310-cp310-manylinux_2_17_x86_64.manylinux2014_x86_64.whl.metadata (252 bytes)\n",
            "Collecting uvicorn>=0.18.3 (from uvicorn[standard]>=0.18.3->chromadb!=0.5.4,!=0.5.5,<0.6.0,>=0.4.0->langchain_chroma)\n",
            "  Downloading uvicorn-0.32.1-py3-none-any.whl.metadata (6.6 kB)\n",
            "Collecting posthog>=2.4.0 (from chromadb!=0.5.4,!=0.5.5,<0.6.0,>=0.4.0->langchain_chroma)\n",
            "  Downloading posthog-3.7.2-py2.py3-none-any.whl.metadata (2.0 kB)\n",
            "Requirement already satisfied: typing-extensions>=4.5.0 in /usr/local/lib/python3.10/dist-packages (from chromadb!=0.5.4,!=0.5.5,<0.6.0,>=0.4.0->langchain_chroma) (4.12.2)\n",
            "Collecting onnxruntime>=1.14.1 (from chromadb!=0.5.4,!=0.5.5,<0.6.0,>=0.4.0->langchain_chroma)\n",
            "  Downloading onnxruntime-1.20.1-cp310-cp310-manylinux_2_27_x86_64.manylinux_2_28_x86_64.whl.metadata (4.5 kB)\n",
            "Requirement already satisfied: opentelemetry-api>=1.2.0 in /usr/local/lib/python3.10/dist-packages (from chromadb!=0.5.4,!=0.5.5,<0.6.0,>=0.4.0->langchain_chroma) (1.28.2)\n",
            "Collecting opentelemetry-exporter-otlp-proto-grpc>=1.2.0 (from chromadb!=0.5.4,!=0.5.5,<0.6.0,>=0.4.0->langchain_chroma)\n",
            "  Downloading opentelemetry_exporter_otlp_proto_grpc-1.28.2-py3-none-any.whl.metadata (2.2 kB)\n",
            "Collecting opentelemetry-instrumentation-fastapi>=0.41b0 (from chromadb!=0.5.4,!=0.5.5,<0.6.0,>=0.4.0->langchain_chroma)\n",
            "  Downloading opentelemetry_instrumentation_fastapi-0.49b2-py3-none-any.whl.metadata (2.1 kB)\n",
            "Requirement already satisfied: opentelemetry-sdk>=1.2.0 in /usr/local/lib/python3.10/dist-packages (from chromadb!=0.5.4,!=0.5.5,<0.6.0,>=0.4.0->langchain_chroma) (1.28.2)\n",
            "Requirement already satisfied: tokenizers>=0.13.2 in /usr/local/lib/python3.10/dist-packages (from chromadb!=0.5.4,!=0.5.5,<0.6.0,>=0.4.0->langchain_chroma) (0.20.3)\n",
            "Collecting pypika>=0.48.9 (from chromadb!=0.5.4,!=0.5.5,<0.6.0,>=0.4.0->langchain_chroma)\n",
            "  Downloading PyPika-0.48.9.tar.gz (67 kB)\n",
            "\u001b[2K     \u001b[90m━━━━━━━━━━━━━━━━━━━━━━━━━━━━━━━━━━━━━━━━\u001b[0m \u001b[32m67.3/67.3 kB\u001b[0m \u001b[31m5.1 MB/s\u001b[0m eta \u001b[36m0:00:00\u001b[0m\n",
            "\u001b[?25h  Installing build dependencies ... \u001b[?25l\u001b[?25hdone\n",
            "  Getting requirements to build wheel ... \u001b[?25l\u001b[?25hdone\n",
            "  Preparing metadata (pyproject.toml) ... \u001b[?25l\u001b[?25hdone\n",
            "Requirement already satisfied: tqdm>=4.65.0 in /usr/local/lib/python3.10/dist-packages (from chromadb!=0.5.4,!=0.5.5,<0.6.0,>=0.4.0->langchain_chroma) (4.66.6)\n",
            "Collecting overrides>=7.3.1 (from chromadb!=0.5.4,!=0.5.5,<0.6.0,>=0.4.0->langchain_chroma)\n",
            "  Downloading overrides-7.7.0-py3-none-any.whl.metadata (5.8 kB)\n",
            "Requirement already satisfied: importlib-resources in /usr/local/lib/python3.10/dist-packages (from chromadb!=0.5.4,!=0.5.5,<0.6.0,>=0.4.0->langchain_chroma) (6.4.5)\n",
            "Requirement already satisfied: grpcio>=1.58.0 in /usr/local/lib/python3.10/dist-packages (from chromadb!=0.5.4,!=0.5.5,<0.6.0,>=0.4.0->langchain_chroma) (1.68.0)\n",
            "Collecting bcrypt>=4.0.1 (from chromadb!=0.5.4,!=0.5.5,<0.6.0,>=0.4.0->langchain_chroma)\n",
            "  Downloading bcrypt-4.2.1-cp39-abi3-manylinux_2_28_x86_64.whl.metadata (9.8 kB)\n",
            "Requirement already satisfied: typer>=0.9.0 in /usr/local/lib/python3.10/dist-packages (from chromadb!=0.5.4,!=0.5.5,<0.6.0,>=0.4.0->langchain_chroma) (0.13.0)\n",
            "Collecting kubernetes>=28.1.0 (from chromadb!=0.5.4,!=0.5.5,<0.6.0,>=0.4.0->langchain_chroma)\n",
            "  Downloading kubernetes-31.0.0-py2.py3-none-any.whl.metadata (1.5 kB)\n",
            "Requirement already satisfied: tenacity>=8.2.3 in /usr/local/lib/python3.10/dist-packages (from chromadb!=0.5.4,!=0.5.5,<0.6.0,>=0.4.0->langchain_chroma) (9.0.0)\n",
            "Requirement already satisfied: PyYAML>=6.0.0 in /usr/local/lib/python3.10/dist-packages (from chromadb!=0.5.4,!=0.5.5,<0.6.0,>=0.4.0->langchain_chroma) (6.0.2)\n",
            "Collecting mmh3>=4.0.1 (from chromadb!=0.5.4,!=0.5.5,<0.6.0,>=0.4.0->langchain_chroma)\n",
            "  Downloading mmh3-5.0.1-cp310-cp310-manylinux_2_5_x86_64.manylinux1_x86_64.manylinux_2_17_x86_64.manylinux2014_x86_64.whl.metadata (14 kB)\n",
            "Requirement already satisfied: orjson>=3.9.12 in /usr/local/lib/python3.10/dist-packages (from chromadb!=0.5.4,!=0.5.5,<0.6.0,>=0.4.0->langchain_chroma) (3.10.11)\n",
            "Requirement already satisfied: httpx>=0.27.0 in /usr/local/lib/python3.10/dist-packages (from chromadb!=0.5.4,!=0.5.5,<0.6.0,>=0.4.0->langchain_chroma) (0.27.2)\n",
            "Requirement already satisfied: rich>=10.11.0 in /usr/local/lib/python3.10/dist-packages (from chromadb!=0.5.4,!=0.5.5,<0.6.0,>=0.4.0->langchain_chroma) (13.9.4)\n",
            "Collecting starlette<0.42.0,>=0.40.0 (from fastapi<1,>=0.95.2->langchain_chroma)\n",
            "  Downloading starlette-0.41.3-py3-none-any.whl.metadata (6.0 kB)\n",
            "Requirement already satisfied: jsonpatch<2.0,>=1.33 in /usr/local/lib/python3.10/dist-packages (from langchain-core<0.4,>=0.1.40->langchain_chroma) (1.33)\n",
            "Requirement already satisfied: langsmith<0.2.0,>=0.1.125 in /usr/local/lib/python3.10/dist-packages (from langchain-core<0.4,>=0.1.40->langchain_chroma) (0.1.143)\n",
            "Requirement already satisfied: packaging<25,>=23.2 in /usr/local/lib/python3.10/dist-packages (from langchain-core<0.4,>=0.1.40->langchain_chroma) (24.2)\n",
            "Collecting pyproject_hooks (from build>=1.0.3->chromadb!=0.5.4,!=0.5.5,<0.6.0,>=0.4.0->langchain_chroma)\n",
            "  Downloading pyproject_hooks-1.2.0-py3-none-any.whl.metadata (1.3 kB)\n",
            "Requirement already satisfied: tomli>=1.1.0 in /usr/local/lib/python3.10/dist-packages (from build>=1.0.3->chromadb!=0.5.4,!=0.5.5,<0.6.0,>=0.4.0->langchain_chroma) (2.1.0)\n",
            "Requirement already satisfied: anyio in /usr/local/lib/python3.10/dist-packages (from httpx>=0.27.0->chromadb!=0.5.4,!=0.5.5,<0.6.0,>=0.4.0->langchain_chroma) (3.7.1)\n",
            "Requirement already satisfied: certifi in /usr/local/lib/python3.10/dist-packages (from httpx>=0.27.0->chromadb!=0.5.4,!=0.5.5,<0.6.0,>=0.4.0->langchain_chroma) (2024.8.30)\n",
            "Requirement already satisfied: httpcore==1.* in /usr/local/lib/python3.10/dist-packages (from httpx>=0.27.0->chromadb!=0.5.4,!=0.5.5,<0.6.0,>=0.4.0->langchain_chroma) (1.0.7)\n",
            "Requirement already satisfied: idna in /usr/local/lib/python3.10/dist-packages (from httpx>=0.27.0->chromadb!=0.5.4,!=0.5.5,<0.6.0,>=0.4.0->langchain_chroma) (3.10)\n",
            "Requirement already satisfied: sniffio in /usr/local/lib/python3.10/dist-packages (from httpx>=0.27.0->chromadb!=0.5.4,!=0.5.5,<0.6.0,>=0.4.0->langchain_chroma) (1.3.1)\n",
            "Requirement already satisfied: h11<0.15,>=0.13 in /usr/local/lib/python3.10/dist-packages (from httpcore==1.*->httpx>=0.27.0->chromadb!=0.5.4,!=0.5.5,<0.6.0,>=0.4.0->langchain_chroma) (0.14.0)\n",
            "Requirement already satisfied: jsonpointer>=1.9 in /usr/local/lib/python3.10/dist-packages (from jsonpatch<2.0,>=1.33->langchain-core<0.4,>=0.1.40->langchain_chroma) (3.0.0)\n",
            "Requirement already satisfied: six>=1.9.0 in /usr/local/lib/python3.10/dist-packages (from kubernetes>=28.1.0->chromadb!=0.5.4,!=0.5.5,<0.6.0,>=0.4.0->langchain_chroma) (1.16.0)\n",
            "Requirement already satisfied: python-dateutil>=2.5.3 in /usr/local/lib/python3.10/dist-packages (from kubernetes>=28.1.0->chromadb!=0.5.4,!=0.5.5,<0.6.0,>=0.4.0->langchain_chroma) (2.8.2)\n",
            "Requirement already satisfied: google-auth>=1.0.1 in /usr/local/lib/python3.10/dist-packages (from kubernetes>=28.1.0->chromadb!=0.5.4,!=0.5.5,<0.6.0,>=0.4.0->langchain_chroma) (2.27.0)\n",
            "Requirement already satisfied: websocket-client!=0.40.0,!=0.41.*,!=0.42.*,>=0.32.0 in /usr/local/lib/python3.10/dist-packages (from kubernetes>=28.1.0->chromadb!=0.5.4,!=0.5.5,<0.6.0,>=0.4.0->langchain_chroma) (1.8.0)\n",
            "Requirement already satisfied: requests in /usr/local/lib/python3.10/dist-packages (from kubernetes>=28.1.0->chromadb!=0.5.4,!=0.5.5,<0.6.0,>=0.4.0->langchain_chroma) (2.32.3)\n",
            "Requirement already satisfied: requests-oauthlib in /usr/local/lib/python3.10/dist-packages (from kubernetes>=28.1.0->chromadb!=0.5.4,!=0.5.5,<0.6.0,>=0.4.0->langchain_chroma) (1.3.1)\n",
            "Requirement already satisfied: oauthlib>=3.2.2 in /usr/local/lib/python3.10/dist-packages (from kubernetes>=28.1.0->chromadb!=0.5.4,!=0.5.5,<0.6.0,>=0.4.0->langchain_chroma) (3.2.2)\n",
            "Requirement already satisfied: urllib3>=1.24.2 in /usr/local/lib/python3.10/dist-packages (from kubernetes>=28.1.0->chromadb!=0.5.4,!=0.5.5,<0.6.0,>=0.4.0->langchain_chroma) (2.2.3)\n",
            "Collecting durationpy>=0.7 (from kubernetes>=28.1.0->chromadb!=0.5.4,!=0.5.5,<0.6.0,>=0.4.0->langchain_chroma)\n",
            "  Downloading durationpy-0.9-py3-none-any.whl.metadata (338 bytes)\n",
            "Requirement already satisfied: requests-toolbelt<2.0.0,>=1.0.0 in /usr/local/lib/python3.10/dist-packages (from langsmith<0.2.0,>=0.1.125->langchain-core<0.4,>=0.1.40->langchain_chroma) (1.0.0)\n",
            "Collecting coloredlogs (from onnxruntime>=1.14.1->chromadb!=0.5.4,!=0.5.5,<0.6.0,>=0.4.0->langchain_chroma)\n",
            "  Downloading coloredlogs-15.0.1-py2.py3-none-any.whl.metadata (12 kB)\n",
            "Requirement already satisfied: flatbuffers in /usr/local/lib/python3.10/dist-packages (from onnxruntime>=1.14.1->chromadb!=0.5.4,!=0.5.5,<0.6.0,>=0.4.0->langchain_chroma) (24.3.25)\n",
            "Requirement already satisfied: protobuf in /usr/local/lib/python3.10/dist-packages (from onnxruntime>=1.14.1->chromadb!=0.5.4,!=0.5.5,<0.6.0,>=0.4.0->langchain_chroma) (4.25.5)\n",
            "Requirement already satisfied: sympy in /usr/local/lib/python3.10/dist-packages (from onnxruntime>=1.14.1->chromadb!=0.5.4,!=0.5.5,<0.6.0,>=0.4.0->langchain_chroma) (1.13.1)\n",
            "Requirement already satisfied: deprecated>=1.2.6 in /usr/local/lib/python3.10/dist-packages (from opentelemetry-api>=1.2.0->chromadb!=0.5.4,!=0.5.5,<0.6.0,>=0.4.0->langchain_chroma) (1.2.15)\n",
            "Requirement already satisfied: importlib-metadata<=8.5.0,>=6.0 in /usr/local/lib/python3.10/dist-packages (from opentelemetry-api>=1.2.0->chromadb!=0.5.4,!=0.5.5,<0.6.0,>=0.4.0->langchain_chroma) (8.5.0)\n",
            "Requirement already satisfied: googleapis-common-protos~=1.52 in /usr/local/lib/python3.10/dist-packages (from opentelemetry-exporter-otlp-proto-grpc>=1.2.0->chromadb!=0.5.4,!=0.5.5,<0.6.0,>=0.4.0->langchain_chroma) (1.66.0)\n",
            "Collecting opentelemetry-exporter-otlp-proto-common==1.28.2 (from opentelemetry-exporter-otlp-proto-grpc>=1.2.0->chromadb!=0.5.4,!=0.5.5,<0.6.0,>=0.4.0->langchain_chroma)\n",
            "  Downloading opentelemetry_exporter_otlp_proto_common-1.28.2-py3-none-any.whl.metadata (1.8 kB)\n",
            "Collecting opentelemetry-proto==1.28.2 (from opentelemetry-exporter-otlp-proto-grpc>=1.2.0->chromadb!=0.5.4,!=0.5.5,<0.6.0,>=0.4.0->langchain_chroma)\n",
            "  Downloading opentelemetry_proto-1.28.2-py3-none-any.whl.metadata (2.3 kB)\n",
            "Collecting protobuf (from onnxruntime>=1.14.1->chromadb!=0.5.4,!=0.5.5,<0.6.0,>=0.4.0->langchain_chroma)\n",
            "  Downloading protobuf-5.28.3-cp38-abi3-manylinux2014_x86_64.whl.metadata (592 bytes)\n",
            "Collecting opentelemetry-instrumentation-asgi==0.49b2 (from opentelemetry-instrumentation-fastapi>=0.41b0->chromadb!=0.5.4,!=0.5.5,<0.6.0,>=0.4.0->langchain_chroma)\n",
            "  Downloading opentelemetry_instrumentation_asgi-0.49b2-py3-none-any.whl.metadata (1.9 kB)\n",
            "Collecting opentelemetry-instrumentation==0.49b2 (from opentelemetry-instrumentation-fastapi>=0.41b0->chromadb!=0.5.4,!=0.5.5,<0.6.0,>=0.4.0->langchain_chroma)\n",
            "  Downloading opentelemetry_instrumentation-0.49b2-py3-none-any.whl.metadata (6.1 kB)\n",
            "Requirement already satisfied: opentelemetry-semantic-conventions==0.49b2 in /usr/local/lib/python3.10/dist-packages (from opentelemetry-instrumentation-fastapi>=0.41b0->chromadb!=0.5.4,!=0.5.5,<0.6.0,>=0.4.0->langchain_chroma) (0.49b2)\n",
            "Collecting opentelemetry-util-http==0.49b2 (from opentelemetry-instrumentation-fastapi>=0.41b0->chromadb!=0.5.4,!=0.5.5,<0.6.0,>=0.4.0->langchain_chroma)\n",
            "  Downloading opentelemetry_util_http-0.49b2-py3-none-any.whl.metadata (2.5 kB)\n",
            "Requirement already satisfied: wrapt<2.0.0,>=1.0.0 in /usr/local/lib/python3.10/dist-packages (from opentelemetry-instrumentation==0.49b2->opentelemetry-instrumentation-fastapi>=0.41b0->chromadb!=0.5.4,!=0.5.5,<0.6.0,>=0.4.0->langchain_chroma) (1.16.0)\n",
            "Collecting asgiref~=3.0 (from opentelemetry-instrumentation-asgi==0.49b2->opentelemetry-instrumentation-fastapi>=0.41b0->chromadb!=0.5.4,!=0.5.5,<0.6.0,>=0.4.0->langchain_chroma)\n",
            "  Downloading asgiref-3.8.1-py3-none-any.whl.metadata (9.3 kB)\n",
            "Collecting monotonic>=1.5 (from posthog>=2.4.0->chromadb!=0.5.4,!=0.5.5,<0.6.0,>=0.4.0->langchain_chroma)\n",
            "  Downloading monotonic-1.6-py2.py3-none-any.whl.metadata (1.5 kB)\n",
            "Collecting backoff>=1.10.0 (from posthog>=2.4.0->chromadb!=0.5.4,!=0.5.5,<0.6.0,>=0.4.0->langchain_chroma)\n",
            "  Downloading backoff-2.2.1-py3-none-any.whl.metadata (14 kB)\n",
            "Requirement already satisfied: annotated-types>=0.6.0 in /usr/local/lib/python3.10/dist-packages (from pydantic>=1.9->chromadb!=0.5.4,!=0.5.5,<0.6.0,>=0.4.0->langchain_chroma) (0.7.0)\n",
            "Requirement already satisfied: pydantic-core==2.23.4 in /usr/local/lib/python3.10/dist-packages (from pydantic>=1.9->chromadb!=0.5.4,!=0.5.5,<0.6.0,>=0.4.0->langchain_chroma) (2.23.4)\n",
            "Requirement already satisfied: markdown-it-py>=2.2.0 in /usr/local/lib/python3.10/dist-packages (from rich>=10.11.0->chromadb!=0.5.4,!=0.5.5,<0.6.0,>=0.4.0->langchain_chroma) (3.0.0)\n",
            "Requirement already satisfied: pygments<3.0.0,>=2.13.0 in /usr/local/lib/python3.10/dist-packages (from rich>=10.11.0->chromadb!=0.5.4,!=0.5.5,<0.6.0,>=0.4.0->langchain_chroma) (2.18.0)\n",
            "Requirement already satisfied: huggingface-hub<1.0,>=0.16.4 in /usr/local/lib/python3.10/dist-packages (from tokenizers>=0.13.2->chromadb!=0.5.4,!=0.5.5,<0.6.0,>=0.4.0->langchain_chroma) (0.26.2)\n",
            "Requirement already satisfied: click>=8.0.0 in /usr/local/lib/python3.10/dist-packages (from typer>=0.9.0->chromadb!=0.5.4,!=0.5.5,<0.6.0,>=0.4.0->langchain_chroma) (8.1.7)\n",
            "Requirement already satisfied: shellingham>=1.3.0 in /usr/local/lib/python3.10/dist-packages (from typer>=0.9.0->chromadb!=0.5.4,!=0.5.5,<0.6.0,>=0.4.0->langchain_chroma) (1.5.4)\n",
            "Collecting httptools>=0.6.3 (from uvicorn[standard]>=0.18.3->chromadb!=0.5.4,!=0.5.5,<0.6.0,>=0.4.0->langchain_chroma)\n",
            "  Downloading httptools-0.6.4-cp310-cp310-manylinux_2_5_x86_64.manylinux1_x86_64.manylinux_2_17_x86_64.manylinux2014_x86_64.whl.metadata (3.6 kB)\n",
            "Requirement already satisfied: python-dotenv>=0.13 in /usr/local/lib/python3.10/dist-packages (from uvicorn[standard]>=0.18.3->chromadb!=0.5.4,!=0.5.5,<0.6.0,>=0.4.0->langchain_chroma) (1.0.1)\n",
            "Collecting uvloop!=0.15.0,!=0.15.1,>=0.14.0 (from uvicorn[standard]>=0.18.3->chromadb!=0.5.4,!=0.5.5,<0.6.0,>=0.4.0->langchain_chroma)\n",
            "  Downloading uvloop-0.21.0-cp310-cp310-manylinux_2_17_x86_64.manylinux2014_x86_64.whl.metadata (4.9 kB)\n",
            "Collecting watchfiles>=0.13 (from uvicorn[standard]>=0.18.3->chromadb!=0.5.4,!=0.5.5,<0.6.0,>=0.4.0->langchain_chroma)\n",
            "  Downloading watchfiles-0.24.0-cp310-cp310-manylinux_2_17_x86_64.manylinux2014_x86_64.whl.metadata (4.9 kB)\n",
            "Collecting websockets>=10.4 (from uvicorn[standard]>=0.18.3->chromadb!=0.5.4,!=0.5.5,<0.6.0,>=0.4.0->langchain_chroma)\n",
            "  Downloading websockets-14.1-cp310-cp310-manylinux_2_5_x86_64.manylinux1_x86_64.manylinux_2_17_x86_64.manylinux2014_x86_64.whl.metadata (6.7 kB)\n",
            "Requirement already satisfied: exceptiongroup in /usr/local/lib/python3.10/dist-packages (from anyio->httpx>=0.27.0->chromadb!=0.5.4,!=0.5.5,<0.6.0,>=0.4.0->langchain_chroma) (1.2.2)\n",
            "Requirement already satisfied: cachetools<6.0,>=2.0.0 in /usr/local/lib/python3.10/dist-packages (from google-auth>=1.0.1->kubernetes>=28.1.0->chromadb!=0.5.4,!=0.5.5,<0.6.0,>=0.4.0->langchain_chroma) (5.5.0)\n",
            "Requirement already satisfied: pyasn1-modules>=0.2.1 in /usr/local/lib/python3.10/dist-packages (from google-auth>=1.0.1->kubernetes>=28.1.0->chromadb!=0.5.4,!=0.5.5,<0.6.0,>=0.4.0->langchain_chroma) (0.4.1)\n",
            "Requirement already satisfied: rsa<5,>=3.1.4 in /usr/local/lib/python3.10/dist-packages (from google-auth>=1.0.1->kubernetes>=28.1.0->chromadb!=0.5.4,!=0.5.5,<0.6.0,>=0.4.0->langchain_chroma) (4.9)\n",
            "Requirement already satisfied: filelock in /usr/local/lib/python3.10/dist-packages (from huggingface-hub<1.0,>=0.16.4->tokenizers>=0.13.2->chromadb!=0.5.4,!=0.5.5,<0.6.0,>=0.4.0->langchain_chroma) (3.16.1)\n",
            "Requirement already satisfied: fsspec>=2023.5.0 in /usr/local/lib/python3.10/dist-packages (from huggingface-hub<1.0,>=0.16.4->tokenizers>=0.13.2->chromadb!=0.5.4,!=0.5.5,<0.6.0,>=0.4.0->langchain_chroma) (2024.10.0)\n",
            "Requirement already satisfied: zipp>=3.20 in /usr/local/lib/python3.10/dist-packages (from importlib-metadata<=8.5.0,>=6.0->opentelemetry-api>=1.2.0->chromadb!=0.5.4,!=0.5.5,<0.6.0,>=0.4.0->langchain_chroma) (3.21.0)\n",
            "Requirement already satisfied: mdurl~=0.1 in /usr/local/lib/python3.10/dist-packages (from markdown-it-py>=2.2.0->rich>=10.11.0->chromadb!=0.5.4,!=0.5.5,<0.6.0,>=0.4.0->langchain_chroma) (0.1.2)\n",
            "Requirement already satisfied: charset-normalizer<4,>=2 in /usr/local/lib/python3.10/dist-packages (from requests->kubernetes>=28.1.0->chromadb!=0.5.4,!=0.5.5,<0.6.0,>=0.4.0->langchain_chroma) (3.4.0)\n",
            "Collecting humanfriendly>=9.1 (from coloredlogs->onnxruntime>=1.14.1->chromadb!=0.5.4,!=0.5.5,<0.6.0,>=0.4.0->langchain_chroma)\n",
            "  Downloading humanfriendly-10.0-py2.py3-none-any.whl.metadata (9.2 kB)\n",
            "Requirement already satisfied: mpmath<1.4,>=1.1.0 in /usr/local/lib/python3.10/dist-packages (from sympy->onnxruntime>=1.14.1->chromadb!=0.5.4,!=0.5.5,<0.6.0,>=0.4.0->langchain_chroma) (1.3.0)\n",
            "Requirement already satisfied: pyasn1<0.7.0,>=0.4.6 in /usr/local/lib/python3.10/dist-packages (from pyasn1-modules>=0.2.1->google-auth>=1.0.1->kubernetes>=28.1.0->chromadb!=0.5.4,!=0.5.5,<0.6.0,>=0.4.0->langchain_chroma) (0.6.1)\n",
            "Downloading langchain_chroma-0.1.4-py3-none-any.whl (10 kB)\n",
            "Downloading chromadb-0.5.20-py3-none-any.whl (617 kB)\n",
            "\u001b[2K   \u001b[90m━━━━━━━━━━━━━━━━━━━━━━━━━━━━━━━━━━━━━━━━\u001b[0m \u001b[32m617.9/617.9 kB\u001b[0m \u001b[31m20.8 MB/s\u001b[0m eta \u001b[36m0:00:00\u001b[0m\n",
            "\u001b[?25hDownloading chroma_hnswlib-0.7.6-cp310-cp310-manylinux_2_17_x86_64.manylinux2014_x86_64.whl (2.4 MB)\n",
            "\u001b[2K   \u001b[90m━━━━━━━━━━━━━━━━━━━━━━━━━━━━━━━━━━━━━━━━\u001b[0m \u001b[32m2.4/2.4 MB\u001b[0m \u001b[31m57.7 MB/s\u001b[0m eta \u001b[36m0:00:00\u001b[0m\n",
            "\u001b[?25hDownloading fastapi-0.115.5-py3-none-any.whl (94 kB)\n",
            "\u001b[2K   \u001b[90m━━━━━━━━━━━━━━━━━━━━━━━━━━━━━━━━━━━━━━━━\u001b[0m \u001b[32m94.9/94.9 kB\u001b[0m \u001b[31m5.6 MB/s\u001b[0m eta \u001b[36m0:00:00\u001b[0m\n",
            "\u001b[?25hDownloading bcrypt-4.2.1-cp39-abi3-manylinux_2_28_x86_64.whl (278 kB)\n",
            "\u001b[2K   \u001b[90m━━━━━━━━━━━━━━━━━━━━━━━━━━━━━━━━━━━━━━━━\u001b[0m \u001b[32m278.6/278.6 kB\u001b[0m \u001b[31m17.7 MB/s\u001b[0m eta \u001b[36m0:00:00\u001b[0m\n",
            "\u001b[?25hDownloading build-1.2.2.post1-py3-none-any.whl (22 kB)\n",
            "Downloading kubernetes-31.0.0-py2.py3-none-any.whl (1.9 MB)\n",
            "\u001b[2K   \u001b[90m━━━━━━━━━━━━━━━━━━━━━━━━━━━━━━━━━━━━━━━━\u001b[0m \u001b[32m1.9/1.9 MB\u001b[0m \u001b[31m47.5 MB/s\u001b[0m eta \u001b[36m0:00:00\u001b[0m\n",
            "\u001b[?25hDownloading mmh3-5.0.1-cp310-cp310-manylinux_2_5_x86_64.manylinux1_x86_64.manylinux_2_17_x86_64.manylinux2014_x86_64.whl (93 kB)\n",
            "\u001b[2K   \u001b[90m━━━━━━━━━━━━━━━━━━━━━━━━━━━━━━━━━━━━━━━━\u001b[0m \u001b[32m93.2/93.2 kB\u001b[0m \u001b[31m7.7 MB/s\u001b[0m eta \u001b[36m0:00:00\u001b[0m\n",
            "\u001b[?25hDownloading onnxruntime-1.20.1-cp310-cp310-manylinux_2_27_x86_64.manylinux_2_28_x86_64.whl (13.3 MB)\n",
            "\u001b[2K   \u001b[90m━━━━━━━━━━━━━━━━━━━━━━━━━━━━━━━━━━━━━━━━\u001b[0m \u001b[32m13.3/13.3 MB\u001b[0m \u001b[31m78.6 MB/s\u001b[0m eta \u001b[36m0:00:00\u001b[0m\n",
            "\u001b[?25hDownloading opentelemetry_exporter_otlp_proto_grpc-1.28.2-py3-none-any.whl (18 kB)\n",
            "Downloading opentelemetry_exporter_otlp_proto_common-1.28.2-py3-none-any.whl (18 kB)\n",
            "Downloading opentelemetry_proto-1.28.2-py3-none-any.whl (55 kB)\n",
            "\u001b[2K   \u001b[90m━━━━━━━━━━━━━━━━━━━━━━━━━━━━━━━━━━━━━━━━\u001b[0m \u001b[32m55.8/55.8 kB\u001b[0m \u001b[31m3.9 MB/s\u001b[0m eta \u001b[36m0:00:00\u001b[0m\n",
            "\u001b[?25hDownloading opentelemetry_instrumentation_fastapi-0.49b2-py3-none-any.whl (12 kB)\n",
            "Downloading opentelemetry_instrumentation-0.49b2-py3-none-any.whl (30 kB)\n",
            "Downloading opentelemetry_instrumentation_asgi-0.49b2-py3-none-any.whl (16 kB)\n",
            "Downloading opentelemetry_util_http-0.49b2-py3-none-any.whl (6.9 kB)\n",
            "Downloading overrides-7.7.0-py3-none-any.whl (17 kB)\n",
            "Downloading posthog-3.7.2-py2.py3-none-any.whl (54 kB)\n",
            "\u001b[2K   \u001b[90m━━━━━━━━━━━━━━━━━━━━━━━━━━━━━━━━━━━━━━━━\u001b[0m \u001b[32m54.4/54.4 kB\u001b[0m \u001b[31m4.0 MB/s\u001b[0m eta \u001b[36m0:00:00\u001b[0m\n",
            "\u001b[?25hDownloading starlette-0.41.3-py3-none-any.whl (73 kB)\n",
            "\u001b[2K   \u001b[90m━━━━━━━━━━━━━━━━━━━━━━━━━━━━━━━━━━━━━━━━\u001b[0m \u001b[32m73.2/73.2 kB\u001b[0m \u001b[31m5.7 MB/s\u001b[0m eta \u001b[36m0:00:00\u001b[0m\n",
            "\u001b[?25hDownloading uvicorn-0.32.1-py3-none-any.whl (63 kB)\n",
            "\u001b[2K   \u001b[90m━━━━━━━━━━━━━━━━━━━━━━━━━━━━━━━━━━━━━━━━\u001b[0m \u001b[32m63.8/63.8 kB\u001b[0m \u001b[31m4.7 MB/s\u001b[0m eta \u001b[36m0:00:00\u001b[0m\n",
            "\u001b[?25hDownloading backoff-2.2.1-py3-none-any.whl (15 kB)\n",
            "Downloading durationpy-0.9-py3-none-any.whl (3.5 kB)\n",
            "Downloading httptools-0.6.4-cp310-cp310-manylinux_2_5_x86_64.manylinux1_x86_64.manylinux_2_17_x86_64.manylinux2014_x86_64.whl (442 kB)\n",
            "\u001b[2K   \u001b[90m━━━━━━━━━━━━━━━━━━━━━━━━━━━━━━━━━━━━━━━━\u001b[0m \u001b[32m442.1/442.1 kB\u001b[0m \u001b[31m25.2 MB/s\u001b[0m eta \u001b[36m0:00:00\u001b[0m\n",
            "\u001b[?25hDownloading monotonic-1.6-py2.py3-none-any.whl (8.2 kB)\n",
            "Downloading protobuf-5.28.3-cp38-abi3-manylinux2014_x86_64.whl (316 kB)\n",
            "\u001b[2K   \u001b[90m━━━━━━━━━━━━━━━━━━━━━━━━━━━━━━━━━━━━━━━━\u001b[0m \u001b[32m316.6/316.6 kB\u001b[0m \u001b[31m18.2 MB/s\u001b[0m eta \u001b[36m0:00:00\u001b[0m\n",
            "\u001b[?25hDownloading uvloop-0.21.0-cp310-cp310-manylinux_2_17_x86_64.manylinux2014_x86_64.whl (3.8 MB)\n",
            "\u001b[2K   \u001b[90m━━━━━━━━━━━━━━━━━━━━━━━━━━━━━━━━━━━━━━━━\u001b[0m \u001b[32m3.8/3.8 MB\u001b[0m \u001b[31m71.4 MB/s\u001b[0m eta \u001b[36m0:00:00\u001b[0m\n",
            "\u001b[?25hDownloading watchfiles-0.24.0-cp310-cp310-manylinux_2_17_x86_64.manylinux2014_x86_64.whl (425 kB)\n",
            "\u001b[2K   \u001b[90m━━━━━━━━━━━━━━━━━━━━━━━━━━━━━━━━━━━━━━━━\u001b[0m \u001b[32m425.7/425.7 kB\u001b[0m \u001b[31m25.4 MB/s\u001b[0m eta \u001b[36m0:00:00\u001b[0m\n",
            "\u001b[?25hDownloading websockets-14.1-cp310-cp310-manylinux_2_5_x86_64.manylinux1_x86_64.manylinux_2_17_x86_64.manylinux2014_x86_64.whl (168 kB)\n",
            "\u001b[2K   \u001b[90m━━━━━━━━━━━━━━━━━━━━━━━━━━━━━━━━━━━━━━━━\u001b[0m \u001b[32m168.2/168.2 kB\u001b[0m \u001b[31m11.2 MB/s\u001b[0m eta \u001b[36m0:00:00\u001b[0m\n",
            "\u001b[?25hDownloading coloredlogs-15.0.1-py2.py3-none-any.whl (46 kB)\n",
            "\u001b[2K   \u001b[90m━━━━━━━━━━━━━━━━━━━━━━━━━━━━━━━━━━━━━━━━\u001b[0m \u001b[32m46.0/46.0 kB\u001b[0m \u001b[31m3.2 MB/s\u001b[0m eta \u001b[36m0:00:00\u001b[0m\n",
            "\u001b[?25hDownloading pyproject_hooks-1.2.0-py3-none-any.whl (10 kB)\n",
            "Downloading asgiref-3.8.1-py3-none-any.whl (23 kB)\n",
            "Downloading humanfriendly-10.0-py2.py3-none-any.whl (86 kB)\n",
            "\u001b[2K   \u001b[90m━━━━━━━━━━━━━━━━━━━━━━━━━━━━━━━━━━━━━━━━\u001b[0m \u001b[32m86.8/86.8 kB\u001b[0m \u001b[31m6.1 MB/s\u001b[0m eta \u001b[36m0:00:00\u001b[0m\n",
            "\u001b[?25hBuilding wheels for collected packages: pypika\n",
            "  Building wheel for pypika (pyproject.toml) ... \u001b[?25l\u001b[?25hdone\n",
            "  Created wheel for pypika: filename=PyPika-0.48.9-py2.py3-none-any.whl size=53725 sha256=dcaebc1d52b49127e887185ea90c8fba1f1beee407ef93df40aad1665a78f0b0\n",
            "  Stored in directory: /root/.cache/pip/wheels/e1/26/51/d0bffb3d2fd82256676d7ad3003faea3bd6dddc9577af665f4\n",
            "Successfully built pypika\n",
            "Installing collected packages: pypika, monotonic, durationpy, websockets, uvloop, uvicorn, pyproject_hooks, protobuf, overrides, opentelemetry-util-http, mmh3, humanfriendly, httptools, chroma-hnswlib, bcrypt, backoff, asgiref, watchfiles, starlette, posthog, opentelemetry-proto, coloredlogs, build, opentelemetry-exporter-otlp-proto-common, onnxruntime, kubernetes, fastapi, opentelemetry-instrumentation, opentelemetry-instrumentation-asgi, opentelemetry-exporter-otlp-proto-grpc, opentelemetry-instrumentation-fastapi, chromadb, langchain_chroma\n",
            "  Attempting uninstall: protobuf\n",
            "    Found existing installation: protobuf 4.25.5\n",
            "    Uninstalling protobuf-4.25.5:\n",
            "      Successfully uninstalled protobuf-4.25.5\n",
            "\u001b[31mERROR: pip's dependency resolver does not currently take into account all the packages that are installed. This behaviour is the source of the following dependency conflicts.\n",
            "tensorflow 2.17.1 requires protobuf!=4.21.0,!=4.21.1,!=4.21.2,!=4.21.3,!=4.21.4,!=4.21.5,<5.0.0dev,>=3.20.3, but you have protobuf 5.28.3 which is incompatible.\n",
            "tensorflow-metadata 1.13.1 requires protobuf<5,>=3.20.3, but you have protobuf 5.28.3 which is incompatible.\u001b[0m\u001b[31m\n",
            "\u001b[0mSuccessfully installed asgiref-3.8.1 backoff-2.2.1 bcrypt-4.2.1 build-1.2.2.post1 chroma-hnswlib-0.7.6 chromadb-0.5.20 coloredlogs-15.0.1 durationpy-0.9 fastapi-0.115.5 httptools-0.6.4 humanfriendly-10.0 kubernetes-31.0.0 langchain_chroma-0.1.4 mmh3-5.0.1 monotonic-1.6 onnxruntime-1.20.1 opentelemetry-exporter-otlp-proto-common-1.28.2 opentelemetry-exporter-otlp-proto-grpc-1.28.2 opentelemetry-instrumentation-0.49b2 opentelemetry-instrumentation-asgi-0.49b2 opentelemetry-instrumentation-fastapi-0.49b2 opentelemetry-proto-1.28.2 opentelemetry-util-http-0.49b2 overrides-7.7.0 posthog-3.7.2 protobuf-5.28.3 pypika-0.48.9 pyproject_hooks-1.2.0 starlette-0.41.3 uvicorn-0.32.1 uvloop-0.21.0 watchfiles-0.24.0 websockets-14.1\n",
            "Collecting playwright\n",
            "  Downloading playwright-1.49.0-py3-none-manylinux1_x86_64.whl.metadata (3.5 kB)\n",
            "Requirement already satisfied: greenlet==3.1.1 in /usr/local/lib/python3.10/dist-packages (from playwright) (3.1.1)\n",
            "Collecting pyee==12.0.0 (from playwright)\n",
            "  Downloading pyee-12.0.0-py3-none-any.whl.metadata (2.8 kB)\n",
            "Requirement already satisfied: typing-extensions in /usr/local/lib/python3.10/dist-packages (from pyee==12.0.0->playwright) (4.12.2)\n",
            "Downloading playwright-1.49.0-py3-none-manylinux1_x86_64.whl (44.1 MB)\n",
            "\u001b[2K   \u001b[90m━━━━━━━━━━━━━━━━━━━━━━━━━━━━━━━━━━━━━━━━\u001b[0m \u001b[32m44.1/44.1 MB\u001b[0m \u001b[31m10.7 MB/s\u001b[0m eta \u001b[36m0:00:00\u001b[0m\n",
            "\u001b[?25hDownloading pyee-12.0.0-py3-none-any.whl (14 kB)\n",
            "Installing collected packages: pyee, playwright\n",
            "Successfully installed playwright-1.49.0 pyee-12.0.0\n"
          ]
        }
      ]
    },
    {
      "cell_type": "code",
      "source": [
        "github_data = \"\"\"\n",
        "We have 3 software engineers:\n",
        "\n",
        "- **Amy’s Work**: Python backend for the to-do list feature, with clean, modular code.\n",
        "- **Daniel’s Work**: Bug fixes in retrieval API endpoints, with messy and poorly structured code.\n",
        "- **Joe’s Work**: Frontend to-do list in TypeScript, clean but scoped.\n",
        "\n",
        "### Amy's Contributions\n",
        "\n",
        "### Commit History:\n",
        "\n",
        "1. **2024-11-17 17:56:07** - *\"Setup database schema for the to-do list feature.\"*\n",
        "2. **2024-11-16 11:56:07** - *\"Add CRUD operations for to-do items.\"*\n",
        "3. **2024-11-16 13:56:07** - *\"Implement service methods for creating and retrieving to-do items.\"*\n",
        "4. **2024-11-16 15:56:07** - *\"Add unit tests for to-do service.\"*\n",
        "5. **2024-11-16 10:56:07** - *\"Improve type hints and docstrings for better maintainability.\"*\n",
        "6. **2024-11-17 13:56:07** - *\"Handle edge cases for updating to-do items.\"*\n",
        "7. **2024-11-17 06:56:07** - *\"Add input validation for due date and title fields.\"*\n",
        "8. **2024-11-16 07:56:07** - *\"Implement error handling for database exceptions.\"*\n",
        "9. **2024-11-16 14:56:07** - *\"Optimize query performance for bulk retrieval.\"*\n",
        "10. **2024-11-16 14:56:07** - *\"Add repr method for debugging and readability.\"*\n",
        "11. **2024-11-16 17:56:07** - *\"Fix a minor bug in delete operation logic.\"*\n",
        "12. **2024-11-17 12:56:07** - *\"Update test cases for enhanced coverage.\"*\n",
        "13. **2024-11-17 06:56:07** - *\"Add feature toggle for incomplete items only.\"*\n",
        "14. **2024-11-16 07:56:07** - *\"Document API endpoints for the to-do list feature.\"*\n",
        "15. **2024-11-17 06:56:07** - *\"Finalize feature for PR submission.\"*\n",
        "\n",
        "### Code Snippets:\n",
        "\n",
        "**1. `models/todo.py` (Database Schema):**\n",
        "\n",
        "```python\n",
        "python\n",
        "Copy code\n",
        "from sqlalchemy import Column, Integer, String, DateTime\n",
        "from sqlalchemy.ext.declarative import declarative_base\n",
        "\n",
        "Base = declarative_base()\n",
        "\n",
        "class TodoItem(Base):\n",
        "    __tablename__ = 'todo_items'\n",
        "    id = Column(Integer, primary_key=True, autoincrement=True)\n",
        "    title = Column(String(255), nullable=False)\n",
        "    description = Column(String(1024), nullable=True)\n",
        "    due_date = Column(DateTime, nullable=True)\n",
        "    is_completed = Column(Integer, default=0)\n",
        "\n",
        "    def __repr__(self):\n",
        "        return f\"<TodoItem(id={self.id}, title={self.title})>\"\n",
        "\n",
        "```\n",
        "\n",
        "**2. `services/todo_service.py` (CRUD Operations):**\n",
        "\n",
        "```python\n",
        "python\n",
        "Copy code\n",
        "from models.todo import TodoItem\n",
        "from sqlalchemy.orm import Session\n",
        "\n",
        "def create_todo(session: Session, title: str, description: str = None, due_date: str = None):\n",
        "    todo_item = TodoItem(title=title, description=description, due_date=due_date)\n",
        "    session.add(todo_item)\n",
        "    session.commit()\n",
        "    return todo_item\n",
        "\n",
        "def get_todo(session: Session, todo_id: int):\n",
        "    return session.query(TodoItem).filter(TodoItem.id == todo_id).first()\n",
        "\n",
        "def update_todo(session: Session, todo_id: int, **kwargs):\n",
        "    todo_item = get_todo(session, todo_id)\n",
        "    if not todo_item:\n",
        "        return None\n",
        "    for key, value in kwargs.items():\n",
        "        setattr(todo_item, key, value)\n",
        "    session.commit()\n",
        "    return todo_item\n",
        "\n",
        "def delete_todo(session: Session, todo_id: int):\n",
        "    todo_item = get_todo(session, todo_id)\n",
        "    if not todo_item:\n",
        "        return False\n",
        "    session.delete(todo_item)\n",
        "    session.commit()\n",
        "    return True\n",
        "\n",
        "```\n",
        "\n",
        "**3. `tests/test_todo_service.py` (Unit Tests):**\n",
        "\n",
        "```python\n",
        "python\n",
        "Copy code\n",
        "import pytest\n",
        "from services.todo_service import create_todo, get_todo, update_todo, delete_todo\n",
        "from sqlalchemy import create_engine\n",
        "from sqlalchemy.orm import sessionmaker\n",
        "from models.todo import Base\n",
        "\n",
        "@pytest.fixture\n",
        "def session():\n",
        "    engine = create_engine(\"sqlite:///:memory:\")\n",
        "    Base.metadata.create_all(engine)\n",
        "    Session = sessionmaker(bind=engine)\n",
        "    return Session()\n",
        "\n",
        "def test_create_todo(session):\n",
        "    todo = create_todo(session, title=\"Test Task\", description=\"Testing\", due_date=\"2024-11-30\")\n",
        "    assert todo.id is not None\n",
        "    assert todo.title == \"Test Task\"\n",
        "\n",
        "def test_get_todo(session):\n",
        "    todo = create_todo(session, title=\"Test Task\")\n",
        "    fetched = get_todo(session, todo.id)\n",
        "    assert fetched.title == \"Test Task\"\n",
        "\n",
        "def test_update_todo(session):\n",
        "    todo = create_todo(session, title=\"Test Task\")\n",
        "    updated = update_todo(session, todo.id, title=\"Updated Task\")\n",
        "    assert updated.title == \"Updated Task\"\n",
        "\n",
        "def test_delete_todo(session):\n",
        "    todo = create_todo(session, title=\"Test Task\")\n",
        "    result = delete_todo(session, todo.id)\n",
        "    assert result is True\n",
        "\n",
        "```\n",
        "\n",
        "========================================================================\n",
        "\n",
        "### Daniel's Contributions (12 Commits)\n",
        "\n",
        "### Commit History:\n",
        "\n",
        "1. **2024-11-16 15:04:11** - *\"Fix retrieval API for to-do items.\"*\n",
        "2. **2024-11-16 04:04:11** - *\"Patch for incorrect error handling in retrieval API.\"*\n",
        "3. **2024-11-16 11:04:11** - *\"Added pagination to to-do retrieval (incomplete).\"*\n",
        "4. **2024-11-16 03:04:11** - *\"Refactor query filters.\"*\n",
        "5. **2024-11-16 09:04:11** - *\"Resolve API response inconsistency issue.\"*\n",
        "6. **2024-11-16 07:04:11** - *\"Basic testing for retrieval API endpoints.\"*\n",
        "7. **2024-11-17 09:04:11** - *\"Fix edge case for non-existent IDs.\"*\n",
        "8. **2024-11-16 21:04:11** - *\"Missing session close in pagination.\"*\n",
        "9. **2024-11-17 07:04:11** - *\"Handle type conversion error for IDs.\"*\n",
        "10. **2024-11-17 08:04:11** - *\"Address comments about API response format.\"*\n",
        "11. **2024-11-16 03:04:11** - *\"Add basic comments.\"*\n",
        "12. **2024-11-16 16:04:11** - *\"PR update with minor fixes in retrieval API.\"*\n",
        "\n",
        "### Code Snippets:\n",
        "\n",
        "**1. `api/retrieval.py` (Retrieval API):**\n",
        "\n",
        "```python\n",
        "python\n",
        "Copy code\n",
        "from flask import Flask, jsonify, request\n",
        "from models.todo import TodoItem\n",
        "from sqlalchemy.orm import sessionmaker\n",
        "from sqlalchemy import create_engine\n",
        "\n",
        "engine = create_engine(\"sqlite:///example.db\")\n",
        "Session = sessionmaker(bind=engine)\n",
        "app = Flask(__name__)\n",
        "\n",
        "@app.route('/api/todos/<int:id>', methods=['GET'])\n",
        "def get_todo_by_id(id):\n",
        "   session=Session()\n",
        "   todo=session.query(TodoItem).filter(TodoItem.id==id).first()\n",
        "   if not todo:\n",
        "      return jsonify({\"error\":\"todo not found\"}),404\n",
        "   return jsonify({\"id\":todo.id,\"title\":todo.title,\"description\":todo.description,\"due_date\":str(todo.due_date),\"is_completed\":todo.is_completed})\n",
        "\n",
        "```\n",
        "\n",
        "**2. `api/pagination.py` (Pagination Code):**\n",
        "\n",
        "```python\n",
        "python\n",
        "Copy code\n",
        "from flask import Flask, request, jsonify\n",
        "from sqlalchemy.orm import sessionmaker\n",
        "from sqlalchemy import create_engine\n",
        "from models.todo import TodoItem\n",
        "\n",
        "engine = create_engine(\"sqlite:///example.db\")\n",
        "Session = sessionmaker(bind=engine)\n",
        "app = Flask(__name__)\n",
        "\n",
        "@app.route('/api/todos', methods=['GET'])\n",
        "def get_paginated_todos():\n",
        "    session = Session()\n",
        "    try:\n",
        "        page = int(request.args.get('page', 1))\n",
        "        per_page = int(request.args.get('per_page', 10))\n",
        "        offset = (page - 1) * per_page\n",
        "        todos = session.query(TodoItem).offset(offset).limit(per_page).all()\n",
        "        result = []\n",
        "        for todo in todos:\n",
        "            result.append({\n",
        "                \"id\": todo.id,\n",
        "                \"title\": todo.title,\n",
        "                \"description\": todo.description,\n",
        "                \"due_date\": str(todo.due_date),\n",
        "                \"is_completed\": todo.is_completed\n",
        "            })\n",
        "        return jsonify(result)\n",
        "    except Exception as e:\n",
        "        return jsonify({\"error\": str(e)}), 500\n",
        "\n",
        "```\n",
        "\n",
        "**3. `api/response_fix.py` (Fixed Response Format):**\n",
        "\n",
        "```python\n",
        "python\n",
        "Copy code\n",
        "from flask import Flask, jsonify\n",
        "from sqlalchemy.orm import sessionmaker\n",
        "from sqlalchemy import create_engine\n",
        "from models.todo import TodoItem\n",
        "\n",
        "engine = create_engine(\"sqlite:///example.db\")\n",
        "Session = sessionmaker(bind=engine)\n",
        "app = Flask(__name__)\n",
        "\n",
        "@app.route('/api/todos/<int:id>', methods=['GET'])\n",
        "def fixed_get_todo_by_id(id):\n",
        "    session = Session()\n",
        "    todo = session.query(TodoItem).filter(TodoItem.id == id).first()\n",
        "    if not todo:\n",
        "        return jsonify({\"status\": \"failure\", \"message\": \"To-do item not found\"})\n",
        "    return jsonify({\"status\": \"success\", \"data\": {\n",
        "        \"id\": todo.id,\n",
        "        \"title\": todo.title,\n",
        "        \"description\": todo.description,\n",
        "        \"due_date\": str(todo.due_date),\n",
        "        \"is_completed\": todo.is_completed\n",
        "    }})\n",
        "\n",
        "```\n",
        "\n",
        "PR reviews Daneil got:\n",
        "\n",
        "Below are the comments provided during the code review for Daniel's contributions. These comments reflect feedback from Amy, a senior engineer, focusing on improving code quality and consistency.\n",
        "\n",
        "---\n",
        "\n",
        "### Feedback for `api/retrieval.py`\n",
        "\n",
        "**Reviewer:** *Amy*\n",
        "\n",
        "**Comment:**\n",
        "\n",
        "- \"The function `get_todo_by_id` is missing proper exception handling. Please ensure that the session is properly closed even in case of errors.\"\n",
        "- \"Indentation for the code block inside the `if not todo` condition is inconsistent. Consider formatting this to align with PEP 8 standards.\"\n",
        "- \"The response structure can be standardized. For example, even in error cases, include a status field to match the success responses.\"\n",
        "\n",
        "---\n",
        "\n",
        "### Feedback for `api/pagination.py`\n",
        "\n",
        "**Reviewer:** *Amy*\n",
        "\n",
        "**Comment:**\n",
        "\n",
        "- \"Ensure that the session is closed after the query execution to prevent resource leaks.\"\n",
        "- \"Consider extracting the pagination logic into a helper function to improve code readability and reusability.\"\n",
        "- \"The exception handling block is too generic. Use specific exception types where possible to provide more meaningful error messages.\"\n",
        "- \"Some variables, like `result`, could benefit from a more descriptive name to indicate their purpose, e.g., `todos_list`.\"\n",
        "\n",
        "---\n",
        "\n",
        "### Feedback for `api/response_fix.py`\n",
        "\n",
        "**Reviewer:** *Amy*\n",
        "\n",
        "**Comment:**\n",
        "\n",
        "- \"The structure of the success response is well-organized, but consider adding a `timestamp` field to help clients handle stale responses.\"\n",
        "- \"Use a context manager (`with session:`) instead of manually opening and closing sessions. This ensures proper cleanup and makes the code less error-prone.\"\n",
        "- \"Avoid hardcoding the string keys in the response dictionary repeatedly. Define constants or use a response formatter function to avoid typos and improve maintainability.\"\n",
        "\n",
        "=======================================================================\n",
        "\n",
        "### Joe’s contribution(18 commits)\n",
        "\n",
        "- **2024-11-16 10:09:58** - *\"Initialize Todo List component and…\"\"\""
      ],
      "metadata": {
        "id": "kOC7PsN696z0"
      },
      "id": "kOC7PsN696z0",
      "execution_count": 37,
      "outputs": []
    },
    {
      "cell_type": "code",
      "source": [
        "# index document\n",
        "import bs4\n",
        "from langchain import hub\n",
        "from langchain_chroma import Chroma\n",
        "from langchain_community.document_loaders import WebBaseLoader\n",
        "from langchain_core.output_parsers import StrOutputParser\n",
        "from langchain_core.runnables import RunnablePassthrough\n",
        "from langchain_openai import OpenAIEmbeddings\n",
        "from langchain_text_splitters import RecursiveCharacterTextSplitter\n",
        "\n",
        "text_splitter = RecursiveCharacterTextSplitter(chunk_size=1000, chunk_overlap=200)\n",
        "chunks = text_splitter.split_text(github_data)\n",
        "vectorstore = Chroma.from_texts(texts=chunks, embedding=OpenAIEmbeddings())\n",
        "\n",
        "# Retrieve and generate using the relevant snippets of the blog.\n",
        "retriever = vectorstore.as_retriever()\n",
        "prompt = hub.pull(\"rlm/rag-prompt\")\n",
        "\n",
        "\n",
        "def format_docs(docs):\n",
        "    return \"\\n\\n\".join(doc.page_content for doc in docs)\n",
        "\n",
        "\n",
        "github_knowledge_base = (\n",
        "    {\"context\": retriever | format_docs, \"question\": RunnablePassthrough()}\n",
        "    | prompt\n",
        "    | llm\n",
        "    | StrOutputParser()\n",
        ")"
      ],
      "metadata": {
        "id": "mS9tI6K62-ol"
      },
      "id": "mS9tI6K62-ol",
      "execution_count": 38,
      "outputs": []
    },
    {
      "cell_type": "code",
      "source": [
        "github_knowledge_base.invoke(\"How many commit Amy has?\")"
      ],
      "metadata": {
        "colab": {
          "base_uri": "https://localhost:8080/",
          "height": 35
        },
        "id": "g-ZuX9lp4Nue",
        "outputId": "64172b9b-4a47-4d73-c707-aeb946bdef07"
      },
      "id": "g-ZuX9lp4Nue",
      "execution_count": 39,
      "outputs": [
        {
          "output_type": "execute_result",
          "data": {
            "text/plain": [
              "'Amy has 15 commits.'"
            ],
            "application/vnd.google.colaboratory.intrinsic+json": {
              "type": "string"
            }
          },
          "metadata": {},
          "execution_count": 39
        }
      ]
    },
    {
      "cell_type": "code",
      "execution_count": 85,
      "id": "9c863768-2278-415b-aef1-96fd18c1b1cb",
      "metadata": {
        "id": "9c863768-2278-415b-aef1-96fd18c1b1cb",
        "outputId": "0ac89e40-aed3-4ab4-ed4b-27b7b3bb7c80",
        "colab": {
          "base_uri": "https://localhost:8080/",
          "height": 647
        }
      },
      "outputs": [
        {
          "output_type": "display_data",
          "data": {
            "image/png": "[encoded data removed]",
            "text/plain": [
              "<IPython.core.display.Image object>"
            ]
          },
          "metadata": {}
        }
      ],
      "source": [
        "from langchain_core.messages import get_buffer_string\n",
        "\n",
        "\n",
        "answer_instructions = \"\"\"You are a knowledge base being interviewed by an analyst.\n",
        "\n",
        "Here is analyst area of focus: {goals}.\n",
        "\n",
        "You goal is to answer a question posed by the analyst.\n",
        "\n",
        "To answer question, use this context:\n",
        "\n",
        "{context}\n",
        "\n",
        "When answering questions, follow these guidelines:\n",
        "\n",
        "1. Use only the information provided in the context.\n",
        "\n",
        "2. Do not introduce external information or make assumptions beyond what is explicitly stated in the context.\n",
        "\n",
        "3. The context contain sources at the topic of each individual document.\n",
        "\n",
        "4. Include these sources your answer next to any relevant statements. For example, for source # 1 use [1].\n",
        "\n",
        "5. List your sources in order at the bottom of your answer. [1] Source 1, [2] Source 2, etc\n",
        "\n",
        "6. If the source is: <Document source=\"assistant/docs/llama3_1.pdf\" page=\"7\"/>' then just list:\n",
        "\n",
        "[1] assistant/docs/llama3_1.pdf, page 7\n",
        "\n",
        "And skip the addition of the brackets as well as the Document source preamble in your citation.\"\"\"\n",
        "\n",
        "search_instructions = SystemMessage(content=f\"\"\"You will be given a conversation between an analyst and a knowledge base.\n",
        "\n",
        "Your goal is to generate a well-structured question for use in retrieval related to the conversation.\n",
        "\n",
        "First, analyze the full conversation.\n",
        "\n",
        "Pay particular attention to the final question posed by the analyst.\n",
        "\n",
        "Convert this final question into a well-structured question\"\"\")\n",
        "\n",
        "def search_knowledge_base(state: InterviewState):\n",
        "    structured_llm = llm.with_structured_output(SearchQuery)\n",
        "    search_query = structured_llm.invoke([search_instructions]+state['messages'])\n",
        "    search_docs = github_knowledge_base.invoke(search_query.search_query)\n",
        "    formatted_search_docs = search_docs\n",
        "    return {\"context\": [formatted_search_docs]}\n",
        "\n",
        "def generate_answer(state: InterviewState):\n",
        "\n",
        "    \"\"\" Node to answer a question \"\"\"\n",
        "\n",
        "    # Get state\n",
        "    analyst = state[\"analyst\"]\n",
        "    messages = state[\"messages\"]\n",
        "    context = state[\"context\"]\n",
        "\n",
        "    # Answer question\n",
        "    system_message = answer_instructions.format(goals=analyst.persona, context=context)\n",
        "    answer = llm.invoke([SystemMessage(content=system_message)]+messages)\n",
        "\n",
        "    # Name the message as coming from the expert\n",
        "    answer.name = \"knowledge_base\"\n",
        "\n",
        "    # Append it to state\n",
        "    return {\"messages\": [answer]}\n",
        "\n",
        "def save_interview(state: InterviewState):\n",
        "\n",
        "    \"\"\" Save interviews \"\"\"\n",
        "\n",
        "    # Get messages\n",
        "    messages = state[\"messages\"]\n",
        "\n",
        "    # Convert interview to a string\n",
        "    interview = get_buffer_string(messages)\n",
        "\n",
        "    # Save to interviews key\n",
        "    return {\"interview\": interview}\n",
        "\n",
        "def route_messages(state: InterviewState,\n",
        "                   name: str = \"expert\"):\n",
        "\n",
        "    \"\"\" Route between question and answer \"\"\"\n",
        "\n",
        "    # Get messages\n",
        "    messages = state[\"messages\"]\n",
        "    max_num_turns = state.get('max_num_turns',2)\n",
        "\n",
        "    # Check the number of expert answers\n",
        "    num_responses = len(\n",
        "        [m for m in messages if isinstance(m, AIMessage) and m.name == name]\n",
        "    )\n",
        "\n",
        "    # print(\"# responses: \" + str(num_responses))\n",
        "    # print(\"max turn:\" + str(max_num_turns))\n",
        "\n",
        "    # End if expert has answered more than the max turns\n",
        "    if num_responses >= max_num_turns:\n",
        "        return 'save_interview'\n",
        "\n",
        "    # This router is run after each question - answer pair\n",
        "    # Get the last question asked to check if it signals the end of discussion\n",
        "    last_question = messages[-2]\n",
        "\n",
        "    if \"I am done\" in last_question.content:\n",
        "        return 'save_interview'\n",
        "    return \"ask_question\"\n",
        "\n",
        "section_writer_instructions = \"\"\"You are an expert performance review writer.\n",
        "\n",
        "Your task is to create a short, easily digestible section of a performance review based on a set of source documents.\n",
        "\n",
        "1. Analyze the content of the source documents:\n",
        "- The name of each source document is at the start of the document, with the <Document tag.\n",
        "\n",
        "2. Create a report structure using markdown formatting:\n",
        "- Use ## for the section title\n",
        "- Use ### for sub-section headers\n",
        "\n",
        "3. Write the report following this structure:\n",
        "a. Title (## header)\n",
        "b. Summary (### header)\n",
        "c. Sources (### header)\n",
        "\n",
        "5. For the summary section:\n",
        "- Set up summary with general background / context related to the focus area of the analyst\n",
        "- Emphasize what is novel, interesting, or surprising about insights gathered from the interview\n",
        "- Create a numbered list of source documents, as you use them\n",
        "- Do not mention the names of interviewers or experts\n",
        "- Aim for approximately 400 words maximum\n",
        "- Use numbered sources in your report (e.g., [1], [2]) based on information from source documents\n",
        "\n",
        "6. In the Sources section:\n",
        "- Include all sources used in your report\n",
        "- Provide full links to relevant websites or specific document paths\n",
        "- Separate each source by a newline. Use two spaces at the end of each line to create a newline in Markdown.\n",
        "- It will look like:\n",
        "\n",
        "### Sources\n",
        "[1] Link or Document name\n",
        "[2] Link or Document name\n",
        "\n",
        "8. Final review:\n",
        "- Ensure the report follows the required structure\n",
        "- Include no preamble before the title of the report\n",
        "- Check that all guidelines have been followed\"\"\"\n",
        "\n",
        "def write_section(state: InterviewState):\n",
        "\n",
        "    \"\"\" Node to answer a question \"\"\"\n",
        "\n",
        "    # Get state\n",
        "    interview = state[\"interview\"]\n",
        "    context = state[\"context\"]\n",
        "    analyst = state[\"analyst\"]\n",
        "\n",
        "    # Write section using either the gathered source docs from interview (context) or the interview itself (interview)\n",
        "    system_message = section_writer_instructions.format(focus=analyst.description)\n",
        "    section = llm.invoke([SystemMessage(content=system_message)]+[HumanMessage(content=f\"Use this source to write your section: {context}\")])\n",
        "\n",
        "    # Append it to state\n",
        "    return {\"sections\": [section.content]}\n",
        "\n",
        "# Add nodes and edges\n",
        "interview_builder = StateGraph(InterviewState)\n",
        "interview_builder.add_node(\"ask_question\", generate_question)\n",
        "interview_builder.add_node(\"search_knowledge_base\", search_knowledge_base)\n",
        "interview_builder.add_node(\"answer_question\", generate_answer)\n",
        "interview_builder.add_node(\"save_interview\", save_interview)\n",
        "interview_builder.add_node(\"write_section\", write_section)\n",
        "\n",
        "# Flow\n",
        "interview_builder.add_edge(START, \"ask_question\")\n",
        "interview_builder.add_edge(\"ask_question\", \"search_knowledge_base\")\n",
        "interview_builder.add_edge(\"search_knowledge_base\", \"answer_question\")\n",
        "interview_builder.add_conditional_edges(\"answer_question\", route_messages,['ask_question','save_interview'])\n",
        "interview_builder.add_edge(\"save_interview\", \"write_section\")\n",
        "interview_builder.add_edge(\"write_section\", END)\n",
        "\n",
        "# Interview\n",
        "memory = MemorySaver()\n",
        "interview_graph = interview_builder.compile(checkpointer=memory).with_config(run_name=\"Conduct Interviews\")\n",
        "\n",
        "# View\n",
        "display(Image(interview_graph.get_graph().draw_mermaid_png()))"
      ]
    },
    {
      "cell_type": "code",
      "execution_count": 86,
      "id": "50f382f1-6e93-48d0-a44a-1094d26ccb1e",
      "metadata": {
        "id": "50f382f1-6e93-48d0-a44a-1094d26ccb1e",
        "outputId": "459f01f8-1dfd-4d26-d85a-34032aa5d9fd",
        "colab": {
          "base_uri": "https://localhost:8080/"
        }
      },
      "outputs": [
        {
          "output_type": "execute_result",
          "data": {
            "text/plain": [
              "Analyst(name='Scope and Impact Analyst', description=\"Focuses on evaluating the scope and impact of the software engineer's work. Concerned with the level of independence and leadership demonstrated in developing features and projects. Motivated by understanding how the engineer's contributions align with their expected level.\")"
            ]
          },
          "metadata": {},
          "execution_count": 86
        }
      ],
      "source": [
        "# Pick one analyst\n",
        "analysts[0]"
      ]
    },
    {
      "cell_type": "markdown",
      "id": "3750ac4f-f458-4b2d-8bad-32ce34895758",
      "metadata": {
        "id": "3750ac4f-f458-4b2d-8bad-32ce34895758"
      },
      "source": [
        "Here, we run the interview passing an index of the llama3.1 paper, which is related to our topic."
      ]
    },
    {
      "cell_type": "code",
      "execution_count": 87,
      "id": "b2242d4e-8430-4de9-8cf7-3ad2f9a22b28",
      "metadata": {
        "id": "b2242d4e-8430-4de9-8cf7-3ad2f9a22b28",
        "outputId": "cea2ba7b-3ef7-4cfa-e0d4-619c7e83bc78",
        "colab": {
          "base_uri": "https://localhost:8080/",
          "height": 454
        }
      },
      "outputs": [
        {
          "output_type": "execute_result",
          "data": {
            "text/plain": [
              "<IPython.core.display.Markdown object>"
            ],
            "text/markdown": "## Performance Review: Amy's Contribution to the Python Backend Development\n\n### Summary\n\nIn the realm of software development, particularly in backend engineering, the ability to produce clean, modular code is a highly valued skill. Amy's recent work on the Python backend for a to-do list feature exemplifies her strong technical capabilities and meticulous attention to detail. This project was a critical component of a larger initiative, and Amy's contributions significantly enhanced the project's scope and impact.\n\nWhat stands out in Amy's performance is her technical proficiency. She has demonstrated an exceptional ability to write code that is not only functional but also clean and modular. This is crucial in backend development, where the maintainability and scalability of code can determine the long-term success of a project. Amy's work ensures that the codebase remains robust and adaptable to future changes or expansions, which is a testament to her foresight and understanding of best practices in software engineering.\n\nHowever, the review of Amy's performance also highlights areas where further information could provide a more comprehensive evaluation. Specifically, there is a lack of detailed insight into her independence in executing tasks, her leadership capabilities, and how well she aligns with the broader team goals. These aspects are critical for assessing her overall contribution to the team and her potential for growth within the organization.\n\nThe absence of information on her independence suggests that while her technical skills are strong, it is unclear how she manages tasks without direct supervision. Similarly, without evidence of leadership, it is difficult to gauge her ability to guide or mentor others, which is an important aspect of career progression in technical fields. Lastly, understanding her alignment with team goals would provide a clearer picture of her ability to work collaboratively and contribute to the team's success.\n\nIn summary, Amy's technical skills and attention to detail are commendable and have significantly contributed to the project's success. However, a more rounded evaluation would benefit from insights into her independence, leadership, and alignment with team objectives.\n\n### Sources\n[1] Document name: Amy's Contribution to the Python Backend Development"
          },
          "metadata": {},
          "execution_count": 87
        }
      ],
      "source": [
        "from IPython.display import Markdown\n",
        "messages = [HumanMessage(f\"I want to know more about the performance of {topic}\")]\n",
        "thread = {\"configurable\": {\"thread_id\": \"1\"}}\n",
        "interview = interview_graph.invoke({\"analyst\": analysts[0], \"messages\": messages, \"max_num_turns\": 3}, thread)\n",
        "Markdown(interview['sections'][0])"
      ]
    },
    {
      "cell_type": "markdown",
      "id": "3b739e87-68bb-4e96-a86a-704e84240a6c",
      "metadata": {
        "id": "3b739e87-68bb-4e96-a86a-704e84240a6c"
      },
      "source": [
        "### Parallelze interviews: Map-Reduce\n",
        "\n",
        "We parallelize the interviews via the `Send()` API, a map step.\n",
        "\n",
        "We combine them into the report body in a reduce step.\n",
        "\n",
        "### Finalize\n",
        "\n",
        "We add a final step to write an intro and conclusion to the final report."
      ]
    },
    {
      "cell_type": "code",
      "execution_count": 88,
      "id": "6a0042f9-5b9f-441a-9e8d-7d8189f44140",
      "metadata": {
        "id": "6a0042f9-5b9f-441a-9e8d-7d8189f44140"
      },
      "outputs": [],
      "source": [
        "import operator\n",
        "from typing import List, Annotated\n",
        "from typing_extensions import TypedDict\n",
        "\n",
        "class ResearchGraphState(TypedDict):\n",
        "    topic: str # who's performance review is this?\n",
        "    guideline: str # performance review guideline\n",
        "    max_analysts: int # Number of analysts\n",
        "    human_analyst_feedback: str # Human feedback\n",
        "    analysts: List[Analyst] # Analyst asking questions\n",
        "    sections: Annotated[list, operator.add] # Send() API key\n",
        "    introduction: str # Introduction for the final report\n",
        "    content: str # Content for the final report\n",
        "    conclusion: str # Conclusion for the final report\n",
        "    final_report: str # Final report"
      ]
    },
    {
      "cell_type": "code",
      "execution_count": 89,
      "id": "c2224592-d2ff-469d-97bd-928809f896d7",
      "metadata": {
        "id": "c2224592-d2ff-469d-97bd-928809f896d7",
        "outputId": "6e2984d4-192b-400f-e603-4b5e1ad624db",
        "colab": {
          "base_uri": "https://localhost:8080/",
          "height": 1000
        }
      },
      "outputs": [
        {
          "output_type": "display_data",
          "data": {
            "image/png": "[encoded data removed]",
            "text/plain": [
              "<IPython.core.display.Image object>"
            ]
          },
          "metadata": {}
        }
      ],
      "source": [
        "from langgraph.constants import Send\n",
        "\n",
        "def initiate_all_interviews(state: ResearchGraphState):\n",
        "    \"\"\" This is the \"map\" step where we run each interview sub-graph using Send API \"\"\"\n",
        "\n",
        "    # Check if human feedback\n",
        "    human_analyst_feedback=state.get('human_analyst_feedback')\n",
        "    if human_analyst_feedback:\n",
        "        # Return to create_analysts\n",
        "        return \"create_analysts\"\n",
        "\n",
        "    # Otherwise kick off interviews in parallel via Send() API\n",
        "    else:\n",
        "        topic = state[\"topic\"]\n",
        "        return [Send(\"conduct_interview\", {\"analyst\": analyst,\n",
        "                                           \"messages\": [HumanMessage(\n",
        "                                               content=f\"I want to know more about the performance of {topic}\"\n",
        "                                           )\n",
        "                                                       ]}) for analyst in state[\"analysts\"]]\n",
        "\n",
        "report_writer_instructions = \"\"\"You are a performance review writer creating a report on performance eval of this person:\n",
        "\n",
        "{topic}\n",
        "\n",
        "You have a team of analysts. Each analyst has done two things:\n",
        "\n",
        "1. They conducted an interview with the knowledge base on a specific aspect of the performance review.\n",
        "2. They write up their finding into a section.\n",
        "\n",
        "Your task:\n",
        "\n",
        "1. You will be given a collection of sections from your analysts.\n",
        "2. Think carefully about the insights from each section.\n",
        "3. Consolidate these into a crisp overall summary that ties together each section.\n",
        "4. Summarize the strength and weaknesses of this person.\n",
        "\n",
        "To format your report:\n",
        "\n",
        "1. Use markdown formatting.\n",
        "2. Include no pre-amble for the report.\n",
        "3. Use no sub-heading.\n",
        "4. Start your report with a single title header: ## Insights\n",
        "5. Do not mention any analyst names in your report.\n",
        "6. Preserve any citations in the memos, which will be annotated in brackets, for example [1] or [2].\n",
        "7. Create a final, consolidated list of sources and add to a Sources section with the `## Sources` header.\n",
        "8. List your sources in order and do not repeat.\n",
        "\n",
        "[1] Source 1\n",
        "[2] Source 2\n",
        "\n",
        "Here are the sections from your analysts to build your report from:\n",
        "\n",
        "{context}\"\"\"\n",
        "\n",
        "def write_report(state: ResearchGraphState):\n",
        "    # Full set of sections\n",
        "    sections = state[\"sections\"]\n",
        "    topic = state[\"topic\"]\n",
        "\n",
        "    # Concat all sections together\n",
        "    formatted_str_sections = \"\\n\\n\".join([f\"{section}\" for section in sections])\n",
        "\n",
        "    # Summarize the sections into a final report\n",
        "    system_message = report_writer_instructions.format(topic=topic, context=formatted_str_sections)\n",
        "    report = llm.invoke([SystemMessage(content=system_message)]+[HumanMessage(content=f\"Write a report based upon these memos.\")])\n",
        "    return {\"content\": report.content}\n",
        "\n",
        "intro_conclusion_instructions = \"\"\"You are a performance review writer finishing a evaluation on {topic}\n",
        "\n",
        "You will be given all of the sections of the report.\n",
        "\n",
        "You job is to write a crisp and compelling introduction or conclusion section.\n",
        "\n",
        "The user will instruct you whether to write the introduction or conclusion.\n",
        "\n",
        "Include no pre-amble for either section.\n",
        "\n",
        "Target around 100 words, crisply previewing (for introduction) or recapping (for conclusion) all of the sections of the report.\n",
        "\n",
        "Use markdown formatting.\n",
        "\n",
        "For your introduction, create a compelling title and use the # header for the title.\n",
        "\n",
        "For your introduction, use ## Introduction as the section header.\n",
        "\n",
        "For your conclusion, use ## Conclusion as the section header.\n",
        "\n",
        "Here are the sections to reflect on for writing: {formatted_str_sections}\"\"\"\n",
        "\n",
        "def write_conclusion(state: ResearchGraphState):\n",
        "    # Full set of sections\n",
        "    sections = state[\"sections\"]\n",
        "    topic = state[\"topic\"]\n",
        "\n",
        "    # Concat all sections together\n",
        "    formatted_str_sections = \"\\n\\n\".join([f\"{section}\" for section in sections])\n",
        "\n",
        "    # Summarize the sections into a final report\n",
        "\n",
        "    instructions = intro_conclusion_instructions.format(topic=topic, formatted_str_sections=formatted_str_sections)\n",
        "    conclusion = llm.invoke([instructions]+[HumanMessage(content=f\"Write the report conclusion\")])\n",
        "    return {\"conclusion\": conclusion.content}\n",
        "\n",
        "def finalize_report(state: ResearchGraphState):\n",
        "    \"\"\" The is the \"reduce\" step where we gather all the sections, combine them, and reflect on them to write the intro/conclusion \"\"\"\n",
        "    # Save full final report\n",
        "    content = state[\"content\"]\n",
        "    if content.startswith(\"## Insights\"):\n",
        "        content = content.strip(\"## Insights\")\n",
        "    if \"## Sources\" in content:\n",
        "        try:\n",
        "            content, sources = content.split(\"\\n## Sources\\n\")\n",
        "        except:\n",
        "            sources = None\n",
        "    else:\n",
        "        sources = None\n",
        "\n",
        "    final_report = state[\"introduction\"] + \"\\n\\n---\\n\\n\" + content + \"\\n\\n---\\n\\n\" + state[\"conclusion\"]\n",
        "    if sources is not None:\n",
        "        final_report += \"\\n\\n## Sources\\n\" + sources\n",
        "    return {\"final_report\": final_report}\n",
        "\n",
        "# Add nodes and edges\n",
        "builder = StateGraph(ResearchGraphState)\n",
        "builder.add_node(\"create_analysts\", create_analysts)\n",
        "builder.add_node(\"human_feedback\", human_feedback)\n",
        "builder.add_node(\"conduct_interview\", interview_builder.compile())\n",
        "builder.add_node(\"write_report\",write_report)\n",
        "builder.add_node(\"write_conclusion\",write_conclusion)\n",
        "builder.add_node(\"finalize_report\",finalize_report)\n",
        "\n",
        "# Logic\n",
        "builder.add_edge(START, \"create_analysts\")\n",
        "builder.add_edge(\"create_analysts\", \"human_feedback\")\n",
        "builder.add_conditional_edges(\"human_feedback\", initiate_all_interviews, [\"create_analysts\", \"conduct_interview\"])\n",
        "builder.add_edge(\"conduct_interview\", \"write_report\")\n",
        "builder.add_edge(\"conduct_interview\", \"write_conclusion\")\n",
        "builder.add_edge([\"write_conclusion\", \"write_report\"], \"finalize_report\")\n",
        "builder.add_edge(\"finalize_report\", END)\n",
        "\n",
        "# Compile\n",
        "memory = MemorySaver()\n",
        "graph = builder.compile(interrupt_before=['human_feedback'], checkpointer=memory)\n",
        "display(Image(graph.get_graph(xray=1).draw_mermaid_png()))"
      ]
    },
    {
      "cell_type": "markdown",
      "id": "1b64ba9a-2b5e-40e1-a778-0f635aa3f6d0",
      "metadata": {
        "id": "1b64ba9a-2b5e-40e1-a778-0f635aa3f6d0"
      },
      "source": [
        "Let's ask an open-ended question about LangGraph."
      ]
    },
    {
      "cell_type": "code",
      "execution_count": 92,
      "id": "362932ee-4106-4a2d-a32d-b812eafcf9df",
      "metadata": {
        "id": "362932ee-4106-4a2d-a32d-b812eafcf9df",
        "outputId": "00b52426-321c-40b8-df5d-59fb1cf021f2",
        "colab": {
          "base_uri": "https://localhost:8080/"
        }
      },
      "outputs": [
        {
          "output_type": "stream",
          "name": "stdout",
          "text": [
            "Name: Scope and Impact Analyst\n",
            "Description: Focuses on evaluating the breadth and depth of an engineer's contributions to feature development and their ability to work independently or lead projects. Concerned with the engineer's ability to handle projects of varying sizes and their impact on the team and organization.\n",
            "--------------------------------------------------\n",
            "Name: Technical Contributions Analyst\n",
            "Description: Concentrates on assessing the quality and clarity of the engineer's code. Evaluates the engineer's ability to implement code independently and their effectiveness in resolving technical challenges.\n",
            "--------------------------------------------------\n",
            "Name: Expertise Analyst\n",
            "Description: Examines the engineer's proficiency and expertise in technical areas. Focuses on the engineer's ability to provide insights and wisdom to the team and their growth in technical knowledge.\n",
            "--------------------------------------------------\n",
            "Name: Design & Architecture Analyst\n",
            "Description: Analyzes the engineer's involvement in design and architecture processes. Evaluates their ability to contribute to and lead design efforts, provide feedback, and guide others in resolving design challenges.\n",
            "--------------------------------------------------\n",
            "Name: Ownership Analyst\n",
            "Description: Assesses the engineer's responsibility and accountability for their projects. Focuses on their ability to manage the entire lifecycle of a project, including planning, risk management, and ensuring the long-term health of the codebase.\n",
            "--------------------------------------------------\n",
            "Name: Scope and Impact Analyst\n",
            "Description: Focuses on evaluating the scope and impact of an employee's work. Concerned with how independently and effectively the employee can develop, design, and maintain features, as well as their ability to lead projects and collaborate across teams.\n",
            "--------------------------------------------------\n",
            "Name: Technical Contributions Analyst\n",
            "Description: Concentrates on assessing the quality and impact of the technical contributions made by the employee. Looks at the clarity, conciseness, and testing of the code, as well as the employee's ability to resolve technical challenges.\n",
            "--------------------------------------------------\n",
            "Name: Expertise Analyst\n",
            "Description: Evaluates the employee's proficiency and expertise in technical areas. Interested in how the employee's knowledge and insights contribute to the team's success and their role as a source of wisdom within the team.\n",
            "--------------------------------------------------\n",
            "Name: Design & Architecture Analyst\n",
            "Description: Analyzes the employee's involvement in engineering design and architecture. Focuses on their ability to create designs, provide feedback, and guide others in resolving design and code issues.\n",
            "--------------------------------------------------\n",
            "Name: Ownership Analyst\n",
            "Description: Assesses the employee's sense of ownership and responsibility for their projects. Looks at their ability to manage the entire lifecycle of a project, including planning, risk management, development, and maintenance, ensuring the long-term health of the codebase and systems.\n",
            "--------------------------------------------------\n"
          ]
        }
      ],
      "source": [
        "# Inputs\n",
        "max_analysts = 3\n",
        "topic = \"Amy\"\n",
        "thread = {\"configurable\": {\"thread_id\": \"1\"}}\n",
        "\n",
        "# Run the graph until the first interruption\n",
        "for event in graph.stream({\n",
        "                          \"topic\":topic,\n",
        "                          \"guideline\":guideline,\n",
        "                           \"max_analysts\":max_analysts},\n",
        "                          thread,\n",
        "                          stream_mode=\"values\"):\n",
        "\n",
        "    analysts = event.get('analysts', '')\n",
        "    if analysts:\n",
        "        for analyst in analysts:\n",
        "            print(f\"Name: {analyst.name}\")\n",
        "            print(f\"Description: {analyst.description}\")\n",
        "            print(\"-\" * 50)"
      ]
    },
    {
      "cell_type": "code",
      "execution_count": null,
      "id": "ac521a5f-5a4f-44f9-8af9-d05228e20882",
      "metadata": {
        "id": "ac521a5f-5a4f-44f9-8af9-d05228e20882",
        "outputId": "82e5d947-ae2b-463d-e795-85b6f93ec3da"
      },
      "outputs": [
        {
          "data": {
            "text/plain": [
              "{'configurable': {'thread_id': '1',\n",
              "  'checkpoint_ns': '',\n",
              "  'checkpoint_id': '1ef6a4b4-a84a-6080-8002-b8c1432e2743'}}"
            ]
          },
          "execution_count": 26,
          "metadata": {},
          "output_type": "execute_result"
        }
      ],
      "source": [
        "# We now update the state as if we are the human_feedback node\n",
        "graph.update_state(thread, {\"human_analyst_feedback\":\n",
        "                                \"Add in the CEO of gen ai native startup\"}, as_node=\"human_feedback\")"
      ]
    },
    {
      "cell_type": "code",
      "execution_count": null,
      "id": "a3be311f-62ee-49e7-b037-75c53d8960a8",
      "metadata": {
        "id": "a3be311f-62ee-49e7-b037-75c53d8960a8",
        "outputId": "cc14ed4b-42b3-48e9-a715-c0e62dd4010a",
        "colab": {
          "base_uri": "https://localhost:8080/"
        }
      },
      "outputs": [
        {
          "output_type": "stream",
          "name": "stdout",
          "text": [
            "Name: Scope and Impact Analyst\n",
            "Description: Focuses on evaluating the scope and impact of an employee's work. Concerned with how independently and effectively the employee can develop, design, and maintain features, as well as their ability to lead projects and collaborate across teams.\n",
            "--------------------------------------------------\n",
            "Name: Technical Contributions Analyst\n",
            "Description: Concentrates on assessing the quality and impact of the technical contributions made by the employee. Looks at the clarity, conciseness, and testing of the code, as well as the employee's ability to resolve technical challenges.\n",
            "--------------------------------------------------\n",
            "Name: Expertise Analyst\n",
            "Description: Evaluates the employee's proficiency and expertise in technical areas. Interested in how the employee's knowledge and insights contribute to the team's success and their role as a source of wisdom within the team.\n",
            "--------------------------------------------------\n",
            "Name: Design & Architecture Analyst\n",
            "Description: Analyzes the employee's involvement in engineering design and architecture. Focuses on their ability to create designs, provide feedback, and guide others in resolving design and code issues.\n",
            "--------------------------------------------------\n",
            "Name: Ownership Analyst\n",
            "Description: Assesses the employee's sense of ownership and responsibility for their projects. Looks at their ability to manage the entire lifecycle of a project, including planning, risk management, development, and maintenance, ensuring the long-term health of the codebase and systems.\n",
            "--------------------------------------------------\n"
          ]
        }
      ],
      "source": [
        "# Check\n",
        "for event in graph.stream(None, thread, stream_mode=\"values\"):\n",
        "    analysts = event.get('analysts', '')\n",
        "    if analysts:\n",
        "        for analyst in analysts:\n",
        "            print(f\"Name: {analyst.name}\")\n",
        "            print(f\"Description: {analyst.description}\")\n",
        "            print(\"-\" * 50)"
      ]
    },
    {
      "cell_type": "code",
      "execution_count": null,
      "id": "0af41f54-88d9-4597-98b0-444c08322095",
      "metadata": {
        "id": "0af41f54-88d9-4597-98b0-444c08322095"
      },
      "outputs": [],
      "source": [
        "# Confirm we are happy\n",
        "graph.update_state(thread, {\"human_analyst_feedback\":\n",
        "                            None}, as_node=\"human_feedback\")"
      ]
    },
    {
      "cell_type": "code",
      "execution_count": null,
      "id": "37123ca7-c20b-43c1-9a71-39ba344e7ca6",
      "metadata": {
        "id": "37123ca7-c20b-43c1-9a71-39ba344e7ca6",
        "outputId": "29d3e6da-0e6e-4133-eb74-bb501bf0a9bf"
      },
      "outputs": [
        {
          "name": "stdout",
          "output_type": "stream",
          "text": [
            "--Node--\n",
            "conduct_interview\n",
            "--Node--\n",
            "conduct_interview\n",
            "--Node--\n",
            "conduct_interview\n",
            "--Node--\n",
            "write_introduction\n",
            "--Node--\n",
            "write_conclusion\n",
            "--Node--\n",
            "write_report\n",
            "--Node--\n",
            "finalize_report\n"
          ]
        }
      ],
      "source": [
        "# Continue\n",
        "for event in graph.stream(None, thread, stream_mode=\"updates\"):\n",
        "    print(\"--Node--\")\n",
        "    node_name = next(iter(event.keys()))\n",
        "    print(node_name)"
      ]
    },
    {
      "cell_type": "code",
      "execution_count": null,
      "id": "f8f66ad8-80fd-4eb2-96b6-6ae9dffd060c",
      "metadata": {
        "id": "f8f66ad8-80fd-4eb2-96b6-6ae9dffd060c",
        "outputId": "a90b44ba-b471-4162-d35c-9279954b031e"
      },
      "outputs": [
        {
          "data": {
            "text/markdown": [
              "# The Benefits of Adopting LangGraph as an Agent Framework\n",
              "\n",
              "## Introduction\n",
              "\n",
              "In the rapidly evolving landscape of artificial intelligence, businesses are increasingly seeking advanced technologies to streamline operations and enhance efficiency. LangGraph, a robust framework for building stateful, multi-actor applications with large language models (LLMs), stands out as a transformative tool. This report delves into the strategic business efficiencies offered by LangGraph, its role in enhancing generative AI models for scalability and market competitiveness, and its impact on data security and privacy. By exploring these facets, we aim to highlight how LangGraph can be a game-changer for businesses looking to leverage AI for complex task automation and operational excellence.\n",
              "\n",
              "---\n",
              "\n",
              "\n",
              "\n",
              "In the rapidly evolving landscape of artificial intelligence, businesses are increasingly adopting advanced technologies to streamline operations, enhance efficiency, and maintain robust data security. LangGraph, a robust framework for building stateful, multi-actor applications with large language models (LLMs), stands out as a transformative tool for these purposes. This report consolidates insights from various analyses to highlight the strategic benefits of adopting LangGraph as an agent framework.\n",
              "\n",
              "LangGraph excels in handling complex, bespoke tasks essential for modern business operations. Unlike simpler frameworks, LangGraph is adept at creating and managing sophisticated workflows involving multiple AI agents, making it particularly beneficial for businesses looking to automate complex processes and improve operational efficiency.\n",
              "\n",
              "Key insights from the analysis of LangGraph include:\n",
              "\n",
              "1. **Stateful Multi-Actor Applications**: LangGraph's ability to build stateful applications allows for the creation of dynamic and adaptive workflows. This is crucial for businesses that require real-time adjustments based on evolving data and task requirements [1][2].\n",
              "\n",
              "2. **Cycles, Controllability, and Persistence**: These core benefits of LangGraph enable businesses to define cyclical processes, maintain control over AI agent actions, and ensure the persistence of data and states across sessions. This leads to more reliable and consistent performance of AI-driven operations [2][3].\n",
              "\n",
              "3. **Integration and Scalability**: LangGraph's framework supports the integration of diverse AI agent types within a unified system, facilitating the development of scalable solutions. This is particularly advantageous for businesses aiming to expand their AI capabilities without overhauling existing systems [4][5].\n",
              "\n",
              "4. **Enhanced Performance Evaluation**: By providing tools to evaluate and optimize AI performance, LangGraph helps businesses ensure that their AI solutions are not only effective but also efficient. This is critical for maintaining competitive advantage in a technology-driven market [1][5].\n",
              "\n",
              "5. **Custom LLM-Backed Experiences**: LangGraph enables the creation of custom experiences powered by LLMs, which can be tailored to specific business needs. This customization potential allows businesses to develop unique solutions that address their particular challenges and opportunities [1][4].\n",
              "\n",
              "LangGraph also enhances the capabilities of generative AI models, improving scalability and providing a competitive edge in the market. By facilitating the creation of cyclic graphs for LLM-based AI agents, LangGraph allows for more variable and nuanced agent behaviors compared to traditional linear execution models [1]. This approach bridges the gap between the potential of LLMs and the requirements of real-world software development, making it a valuable tool for startups and established businesses alike.\n",
              "\n",
              "Key insights from this perspective include:\n",
              "\n",
              "1. **Framework for Controlled AI Applications**: LangGraph provides a structured framework for creating controlled, production-ready AI applications, which is essential for meeting the stringent requirements of real-world software development [1].\n",
              "\n",
              "2. **Cyclic Graph Topologies**: By viewing agent workflows as cyclic graph topologies, LangGraph enables more nuanced and variable agent behaviors, enhancing the flexibility and adaptability of AI models [2].\n",
              "\n",
              "3. **Integration with LangChain**: LangGraph is built on top of LangChain, leveraging its capabilities to create more efficient and stateful multi-actor applications. This integration allows for better coordination and checkpointing of different chains or actors using regular Python functions [4].\n",
              "\n",
              "4. **Real-World Applications**: LangGraph has been successfully applied in complex data analysis scenarios, demonstrating its practical utility and effectiveness in handling diverse AI agent types within a unified framework [5].\n",
              "\n",
              "5. **Improving Retrieval-Augmented Generation (RAG)**: LangGraph, in conjunction with LangChain, can significantly improve RAG by creating more efficient and conditional workflows, which are essential for generating accurate and contextually relevant responses [6].\n",
              "\n",
              "In the context of data security and privacy, LangGraph offers a structured framework for defining, coordinating, and executing multiple LLM agents, which can significantly streamline the development of complex AI applications. One of its key features is the ability to create cyclical graphs, essential for developing stateful, multi-actor applications [1]. This capability can enhance the efficiency and reliability of AI-driven processes, which is critical for maintaining data integrity.\n",
              "\n",
              "However, LangGraph does not enforce best practices as rigorously as some other tools, such as CrewAI. This lack of enforcement can lead to suboptimal results if developers do not adhere to established security protocols [2]. Despite this, LangGraph's flexibility and higher level of control can be advantageous for developers who are well-versed in data security practices.\n",
              "\n",
              "The recent release of LangGraph v0.2 introduces new checkpointer libraries, including a SQLite checkpointer for local workflows and an optimized Postgres checkpointer for production environments [3]. These enhancements provide increased customization options, which can be leveraged to improve data security measures. Additionally, the introduction of LangGraph Cloud in open beta offers new opportunities for scalable and secure AI application development.\n",
              "\n",
              "In summary, LangGraph offers a comprehensive solution for businesses looking to leverage AI for complex task automation, operational efficiency, and data security. Its unique features and strategic advantages make it a valuable tool for businesses aiming to stay ahead in a competitive market.\n",
              "\n",
              "\n",
              "---\n",
              "\n",
              "## Conclusion\n",
              "\n",
              "LangGraph emerges as a transformative framework for businesses aiming to leverage AI for enhanced operational efficiency, scalability, and data security. By enabling the creation of stateful, multi-actor applications, LangGraph addresses the complex needs of modern enterprises. Its unique features, such as cycles, controllability, and persistence, offer significant advantages in automating intricate workflows. The integration and scalability capabilities further ensure that businesses can expand their AI solutions seamlessly. Additionally, LangGraph's tools for performance evaluation and custom LLM-backed experiences provide a competitive edge in the market. Despite some challenges in enforcing best practices, LangGraph's advanced features and recent updates make it a valuable asset for businesses focused on strategic efficiency, generative AI model enhancement, and robust data security.\n",
              "\n",
              "## Sources\n",
              "[1] https://www.langchain.com/langgraph  \n",
              "[2] https://github.com/langchain-ai/langgraph  \n",
              "[3] https://medium.com/@ga3435/ai-agentic-frameworks-2022fe43e78a  \n",
              "[4] https://www.datacamp.com/tutorial/langgraph-tutorial  \n",
              "[5] https://github.com/langchain-ai/langgraph/discussions/1093  \n",
              "[6] https://medium.com/data-science-in-your-pocket/improving-rag-using-langgraph-and-langchain-bb195bfe4b44  \n",
              "[7] https://opendatascience.com/langgraph-the-future-of-production-ready-ai-agents/  \n",
              "[8] https://www.analyticsvidhya.com/blog/2024/07/langgraph-revolutionizing-ai-agent/  \n",
              "[9] https://towardsdatascience.com/how-to-implement-a-genai-agent-using-autogen-or-langgraph-929135afd34d  \n",
              "[10] https://adasci.org/a-practical-guide-to-building-ai-agents-with-langgraph/  \n",
              "[11] https://towardsdatascience.com/from-basics-to-advanced-exploring-langgraph-e8c1cf4db787  \n",
              "[12] https://blog.langchain.dev/langgraph-v0-2/"
            ],
            "text/plain": [
              "<IPython.core.display.Markdown object>"
            ]
          },
          "execution_count": 30,
          "metadata": {},
          "output_type": "execute_result"
        }
      ],
      "source": [
        "from IPython.display import Markdown\n",
        "final_state = graph.get_state(thread)\n",
        "report = final_state.values.get('final_report')\n",
        "Markdown(report)"
      ]
    },
    {
      "cell_type": "markdown",
      "id": "e9bf8edd-fb42-496c-9bdb-3f5d7b4d79d3",
      "metadata": {
        "id": "e9bf8edd-fb42-496c-9bdb-3f5d7b4d79d3"
      },
      "source": [
        "We can look at the trace:\n",
        "\n",
        "https://smith.langchain.com/public/2933a7bb-bcef-4d2d-9b85-cc735b22ca0c/r"
      ]
    },
    {
      "cell_type": "code",
      "execution_count": null,
      "id": "808bd094",
      "metadata": {
        "id": "808bd094"
      },
      "outputs": [],
      "source": []
    }
  ],
  "metadata": {
    "kernelspec": {
      "display_name": "Python 3 (ipykernel)",
      "language": "python",
      "name": "python3"
    },
    "language_info": {
      "codemirror_mode": {
        "name": "ipython",
        "version": 3
      },
      "file_extension": ".py",
      "mimetype": "text/x-python",
      "name": "python",
      "nbconvert_exporter": "python",
      "pygments_lexer": "ipython3",
      "version": "3.12.1"
    },
    "colab": {
      "provenance": [],
      "include_colab_link": true
    }
  },
  "nbformat": 4,
  "nbformat_minor": 5
}